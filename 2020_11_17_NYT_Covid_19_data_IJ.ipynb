{
  "nbformat": 4,
  "nbformat_minor": 0,
  "metadata": {
    "colab": {
      "name": "2020-11-17-NYT-Covid-19-data-IJ.ipynb",
      "provenance": [],
      "authorship_tag": "ABX9TyN0fbtFwCfP3DB6+L0c14JS",
      "include_colab_link": true
    },
    "kernelspec": {
      "name": "python3",
      "display_name": "Python 3"
    }
  },
  "cells": [
    {
      "cell_type": "markdown",
      "metadata": {
        "id": "view-in-github",
        "colab_type": "text"
      },
      "source": [
        "<a href=\"https://colab.research.google.com/github/ijohns29/Comparing-regional-Covid-19-data-trends-in-MD-and-MT-to-assess-short-term-risks-of-travel/blob/main/2020_11_17_NYT_Covid_19_data_IJ.ipynb\" target=\"_parent\"><img src=\"https://colab.research.google.com/assets/colab-badge.svg\" alt=\"Open In Colab\"/></a>"
      ]
    },
    {
      "cell_type": "markdown",
      "metadata": {
        "id": "vtQNlIVNaPan"
      },
      "source": [
        "## Looking at recent Covid-19 trends in Maryland and Montana at state level and at more granular level using multiple open data sources"
      ]
    },
    {
      "cell_type": "markdown",
      "metadata": {
        "id": "cWMVXlEfa2tS"
      },
      "source": [
        "\n",
        "\n",
        "*  Change in daily incidence over past two weeks\n",
        "*   Change in hospitalizations over past two weeks\n",
        "* Change in positivity rate as function of age group for MD\n",
        "\n"
      ]
    },
    {
      "cell_type": "markdown",
      "metadata": {
        "id": "XJA7uKmOc5iJ"
      },
      "source": [
        "# Import Libraries"
      ]
    },
    {
      "cell_type": "code",
      "metadata": {
        "colab": {
          "base_uri": "https://localhost:8080/"
        },
        "id": "xd4wOUG5-qXE",
        "outputId": "4e078f58-1ab9-4a65-eebf-62fa2792aec2"
      },
      "source": [
        "# Install visualization package\n",
        "!pip install plotly"
      ],
      "execution_count": 39,
      "outputs": [
        {
          "output_type": "stream",
          "text": [
            "Requirement already satisfied: plotly in /usr/local/lib/python3.6/dist-packages (4.4.1)\n",
            "Requirement already satisfied: retrying>=1.3.3 in /usr/local/lib/python3.6/dist-packages (from plotly) (1.3.3)\n",
            "Requirement already satisfied: six in /usr/local/lib/python3.6/dist-packages (from plotly) (1.15.0)\n"
          ],
          "name": "stdout"
        }
      ]
    },
    {
      "cell_type": "markdown",
      "metadata": {
        "id": "bPVPM_Rs6WRh"
      },
      "source": [
        ""
      ]
    },
    {
      "cell_type": "code",
      "metadata": {
        "id": "xKn3fMt3YS7O"
      },
      "source": [
        "# import libraries\n",
        "# for data analysis: 1 is for 'pandas' i.e. panel data\n",
        "import pandas as pd # imports panel data. Later in code can just say use pd rather than use pandas\n",
        "import numpy as np\n",
        "# for visualization\n",
        "import plotly.express as px\n",
        "# to help export files\n",
        "from google.colab import files"
      ],
      "execution_count": 4,
      "outputs": []
    },
    {
      "cell_type": "markdown",
      "metadata": {
        "id": "LPAV5g70vDJl"
      },
      "source": [
        "# Import data"
      ]
    },
    {
      "cell_type": "code",
      "metadata": {
        "id": "rPiLiMIKu4CW"
      },
      "source": [
        "# import data e.g. bring in csv. Can't open them here but can take it and project it into notebook. This projection is data frame (df)_relevant_name\n",
        "# One equals is to define variable , two is for equation \n",
        "# Convention is df = pd.read_csv(\"github link\")\n",
        "# Creates data frame using pandas (prev imported as pd). Read_csv is code under pandas that allows reading of csv file\n",
        "# Import NYT Covid-19 state level data - 2020-11-17 is the name but autoupdates to latest upon initialization\n",
        "df_NYT_Covid_19_states_20201127 = pd.read_csv(\"https://raw.githubusercontent.com/nytimes/covid-19-data/master/us-states.csv\")\n",
        "# Import NYT Covid-19 county level data - 2020-11-17 is the name but auto updates to latest upon inititalization\n",
        "df_NYT_Covid_19_counties_20201127 = pd.read_csv(\"https://raw.githubusercontent.com/nytimes/covid-19-data/master/us-counties.csv\")\n",
        "# Import Maryland.gov Covid-19 testing data\n",
        "df_MD_HHS = pd.read_csv(\"https://opendata.maryland.gov/resource/avum-x5ua.csv\")"
      ],
      "execution_count": 119,
      "outputs": []
    },
    {
      "cell_type": "markdown",
      "metadata": {
        "id": "eMi1gUI7NVwU"
      },
      "source": [
        "# Preview data"
      ]
    },
    {
      "cell_type": "code",
      "metadata": {
        "colab": {
          "base_uri": "https://localhost:8080/",
          "height": 233
        },
        "id": "0_9mcIGi7EvW",
        "outputId": "29671ec1-1b76-454d-86b2-b98d10f69f8b"
      },
      "source": [
        "# preview data - do this by calling data frame.head(#) If no number default is 5. n = number of rows of data can preview\n",
        "df_NYT_Covid_19_states_20201127.head(6)\n"
      ],
      "execution_count": 6,
      "outputs": [
        {
          "output_type": "execute_result",
          "data": {
            "text/html": [
              "<div>\n",
              "<style scoped>\n",
              "    .dataframe tbody tr th:only-of-type {\n",
              "        vertical-align: middle;\n",
              "    }\n",
              "\n",
              "    .dataframe tbody tr th {\n",
              "        vertical-align: top;\n",
              "    }\n",
              "\n",
              "    .dataframe thead th {\n",
              "        text-align: right;\n",
              "    }\n",
              "</style>\n",
              "<table border=\"1\" class=\"dataframe\">\n",
              "  <thead>\n",
              "    <tr style=\"text-align: right;\">\n",
              "      <th></th>\n",
              "      <th>date</th>\n",
              "      <th>state</th>\n",
              "      <th>fips</th>\n",
              "      <th>cases</th>\n",
              "      <th>deaths</th>\n",
              "    </tr>\n",
              "  </thead>\n",
              "  <tbody>\n",
              "    <tr>\n",
              "      <th>0</th>\n",
              "      <td>2020-01-21</td>\n",
              "      <td>Washington</td>\n",
              "      <td>53</td>\n",
              "      <td>1</td>\n",
              "      <td>0</td>\n",
              "    </tr>\n",
              "    <tr>\n",
              "      <th>1</th>\n",
              "      <td>2020-01-22</td>\n",
              "      <td>Washington</td>\n",
              "      <td>53</td>\n",
              "      <td>1</td>\n",
              "      <td>0</td>\n",
              "    </tr>\n",
              "    <tr>\n",
              "      <th>2</th>\n",
              "      <td>2020-01-23</td>\n",
              "      <td>Washington</td>\n",
              "      <td>53</td>\n",
              "      <td>1</td>\n",
              "      <td>0</td>\n",
              "    </tr>\n",
              "    <tr>\n",
              "      <th>3</th>\n",
              "      <td>2020-01-24</td>\n",
              "      <td>Illinois</td>\n",
              "      <td>17</td>\n",
              "      <td>1</td>\n",
              "      <td>0</td>\n",
              "    </tr>\n",
              "    <tr>\n",
              "      <th>4</th>\n",
              "      <td>2020-01-24</td>\n",
              "      <td>Washington</td>\n",
              "      <td>53</td>\n",
              "      <td>1</td>\n",
              "      <td>0</td>\n",
              "    </tr>\n",
              "    <tr>\n",
              "      <th>5</th>\n",
              "      <td>2020-01-25</td>\n",
              "      <td>California</td>\n",
              "      <td>6</td>\n",
              "      <td>1</td>\n",
              "      <td>0</td>\n",
              "    </tr>\n",
              "  </tbody>\n",
              "</table>\n",
              "</div>"
            ],
            "text/plain": [
              "         date       state  fips  cases  deaths\n",
              "0  2020-01-21  Washington    53      1       0\n",
              "1  2020-01-22  Washington    53      1       0\n",
              "2  2020-01-23  Washington    53      1       0\n",
              "3  2020-01-24    Illinois    17      1       0\n",
              "4  2020-01-24  Washington    53      1       0\n",
              "5  2020-01-25  California     6      1       0"
            ]
          },
          "metadata": {
            "tags": []
          },
          "execution_count": 6
        }
      ]
    },
    {
      "cell_type": "code",
      "metadata": {
        "colab": {
          "base_uri": "https://localhost:8080/",
          "height": 233
        },
        "id": "EVtw0JuhNoOj",
        "outputId": "2b9ffb37-e175-418b-82df-a74c089b1b7b"
      },
      "source": [
        "# Preview Covid-19 County data\n",
        "df_NYT_Covid_19_counties_20201127.head(6)"
      ],
      "execution_count": 7,
      "outputs": [
        {
          "output_type": "execute_result",
          "data": {
            "text/html": [
              "<div>\n",
              "<style scoped>\n",
              "    .dataframe tbody tr th:only-of-type {\n",
              "        vertical-align: middle;\n",
              "    }\n",
              "\n",
              "    .dataframe tbody tr th {\n",
              "        vertical-align: top;\n",
              "    }\n",
              "\n",
              "    .dataframe thead th {\n",
              "        text-align: right;\n",
              "    }\n",
              "</style>\n",
              "<table border=\"1\" class=\"dataframe\">\n",
              "  <thead>\n",
              "    <tr style=\"text-align: right;\">\n",
              "      <th></th>\n",
              "      <th>date</th>\n",
              "      <th>county</th>\n",
              "      <th>state</th>\n",
              "      <th>fips</th>\n",
              "      <th>cases</th>\n",
              "      <th>deaths</th>\n",
              "    </tr>\n",
              "  </thead>\n",
              "  <tbody>\n",
              "    <tr>\n",
              "      <th>0</th>\n",
              "      <td>2020-01-21</td>\n",
              "      <td>Snohomish</td>\n",
              "      <td>Washington</td>\n",
              "      <td>53061.0</td>\n",
              "      <td>1</td>\n",
              "      <td>0.0</td>\n",
              "    </tr>\n",
              "    <tr>\n",
              "      <th>1</th>\n",
              "      <td>2020-01-22</td>\n",
              "      <td>Snohomish</td>\n",
              "      <td>Washington</td>\n",
              "      <td>53061.0</td>\n",
              "      <td>1</td>\n",
              "      <td>0.0</td>\n",
              "    </tr>\n",
              "    <tr>\n",
              "      <th>2</th>\n",
              "      <td>2020-01-23</td>\n",
              "      <td>Snohomish</td>\n",
              "      <td>Washington</td>\n",
              "      <td>53061.0</td>\n",
              "      <td>1</td>\n",
              "      <td>0.0</td>\n",
              "    </tr>\n",
              "    <tr>\n",
              "      <th>3</th>\n",
              "      <td>2020-01-24</td>\n",
              "      <td>Cook</td>\n",
              "      <td>Illinois</td>\n",
              "      <td>17031.0</td>\n",
              "      <td>1</td>\n",
              "      <td>0.0</td>\n",
              "    </tr>\n",
              "    <tr>\n",
              "      <th>4</th>\n",
              "      <td>2020-01-24</td>\n",
              "      <td>Snohomish</td>\n",
              "      <td>Washington</td>\n",
              "      <td>53061.0</td>\n",
              "      <td>1</td>\n",
              "      <td>0.0</td>\n",
              "    </tr>\n",
              "    <tr>\n",
              "      <th>5</th>\n",
              "      <td>2020-01-25</td>\n",
              "      <td>Orange</td>\n",
              "      <td>California</td>\n",
              "      <td>6059.0</td>\n",
              "      <td>1</td>\n",
              "      <td>0.0</td>\n",
              "    </tr>\n",
              "  </tbody>\n",
              "</table>\n",
              "</div>"
            ],
            "text/plain": [
              "         date     county       state     fips  cases  deaths\n",
              "0  2020-01-21  Snohomish  Washington  53061.0      1     0.0\n",
              "1  2020-01-22  Snohomish  Washington  53061.0      1     0.0\n",
              "2  2020-01-23  Snohomish  Washington  53061.0      1     0.0\n",
              "3  2020-01-24       Cook    Illinois  17031.0      1     0.0\n",
              "4  2020-01-24  Snohomish  Washington  53061.0      1     0.0\n",
              "5  2020-01-25     Orange  California   6059.0      1     0.0"
            ]
          },
          "metadata": {
            "tags": []
          },
          "execution_count": 7
        }
      ]
    },
    {
      "cell_type": "code",
      "metadata": {
        "colab": {
          "base_uri": "https://localhost:8080/",
          "height": 203
        },
        "id": "AFw50Zo6JMIE",
        "outputId": "c6d6e7b9-a3b0-4de4-ab8d-148526fcabe3"
      },
      "source": [
        "# preview end of county data\n",
        "df_NYT_Covid_19_counties_20201127.tail(5)"
      ],
      "execution_count": 9,
      "outputs": [
        {
          "output_type": "execute_result",
          "data": {
            "text/html": [
              "<div>\n",
              "<style scoped>\n",
              "    .dataframe tbody tr th:only-of-type {\n",
              "        vertical-align: middle;\n",
              "    }\n",
              "\n",
              "    .dataframe tbody tr th {\n",
              "        vertical-align: top;\n",
              "    }\n",
              "\n",
              "    .dataframe thead th {\n",
              "        text-align: right;\n",
              "    }\n",
              "</style>\n",
              "<table border=\"1\" class=\"dataframe\">\n",
              "  <thead>\n",
              "    <tr style=\"text-align: right;\">\n",
              "      <th></th>\n",
              "      <th>date</th>\n",
              "      <th>county</th>\n",
              "      <th>state</th>\n",
              "      <th>fips</th>\n",
              "      <th>cases</th>\n",
              "      <th>deaths</th>\n",
              "    </tr>\n",
              "  </thead>\n",
              "  <tbody>\n",
              "    <tr>\n",
              "      <th>784208</th>\n",
              "      <td>2020-11-30</td>\n",
              "      <td>Sweetwater</td>\n",
              "      <td>Wyoming</td>\n",
              "      <td>56037.0</td>\n",
              "      <td>1888</td>\n",
              "      <td>6.0</td>\n",
              "    </tr>\n",
              "    <tr>\n",
              "      <th>784209</th>\n",
              "      <td>2020-11-30</td>\n",
              "      <td>Teton</td>\n",
              "      <td>Wyoming</td>\n",
              "      <td>56039.0</td>\n",
              "      <td>1644</td>\n",
              "      <td>2.0</td>\n",
              "    </tr>\n",
              "    <tr>\n",
              "      <th>784210</th>\n",
              "      <td>2020-11-30</td>\n",
              "      <td>Uinta</td>\n",
              "      <td>Wyoming</td>\n",
              "      <td>56041.0</td>\n",
              "      <td>1070</td>\n",
              "      <td>4.0</td>\n",
              "    </tr>\n",
              "    <tr>\n",
              "      <th>784211</th>\n",
              "      <td>2020-11-30</td>\n",
              "      <td>Washakie</td>\n",
              "      <td>Wyoming</td>\n",
              "      <td>56043.0</td>\n",
              "      <td>440</td>\n",
              "      <td>8.0</td>\n",
              "    </tr>\n",
              "    <tr>\n",
              "      <th>784212</th>\n",
              "      <td>2020-11-30</td>\n",
              "      <td>Weston</td>\n",
              "      <td>Wyoming</td>\n",
              "      <td>56045.0</td>\n",
              "      <td>397</td>\n",
              "      <td>1.0</td>\n",
              "    </tr>\n",
              "  </tbody>\n",
              "</table>\n",
              "</div>"
            ],
            "text/plain": [
              "              date      county    state     fips  cases  deaths\n",
              "784208  2020-11-30  Sweetwater  Wyoming  56037.0   1888     6.0\n",
              "784209  2020-11-30       Teton  Wyoming  56039.0   1644     2.0\n",
              "784210  2020-11-30       Uinta  Wyoming  56041.0   1070     4.0\n",
              "784211  2020-11-30    Washakie  Wyoming  56043.0    440     8.0\n",
              "784212  2020-11-30      Weston  Wyoming  56045.0    397     1.0"
            ]
          },
          "metadata": {
            "tags": []
          },
          "execution_count": 9
        }
      ]
    },
    {
      "cell_type": "code",
      "metadata": {
        "colab": {
          "base_uri": "https://localhost:8080/",
          "height": 233
        },
        "id": "yLMMkUfVJMoy",
        "outputId": "e16b9ca0-8eb6-4814-9b64-f099745cbfc0"
      },
      "source": [
        "# preview end of state level data \n",
        "df_NYT_Covid_19_states_20201127.tail(6)"
      ],
      "execution_count": 71,
      "outputs": [
        {
          "output_type": "execute_result",
          "data": {
            "text/html": [
              "<div>\n",
              "<style scoped>\n",
              "    .dataframe tbody tr th:only-of-type {\n",
              "        vertical-align: middle;\n",
              "    }\n",
              "\n",
              "    .dataframe tbody tr th {\n",
              "        vertical-align: top;\n",
              "    }\n",
              "\n",
              "    .dataframe thead th {\n",
              "        text-align: right;\n",
              "    }\n",
              "</style>\n",
              "<table border=\"1\" class=\"dataframe\">\n",
              "  <thead>\n",
              "    <tr style=\"text-align: right;\">\n",
              "      <th></th>\n",
              "      <th>date</th>\n",
              "      <th>state</th>\n",
              "      <th>fips</th>\n",
              "      <th>cases</th>\n",
              "      <th>deaths</th>\n",
              "    </tr>\n",
              "  </thead>\n",
              "  <tbody>\n",
              "    <tr>\n",
              "      <th>14858</th>\n",
              "      <td>2020-11-27</td>\n",
              "      <td>Virgin Islands</td>\n",
              "      <td>78</td>\n",
              "      <td>1521</td>\n",
              "      <td>23</td>\n",
              "    </tr>\n",
              "    <tr>\n",
              "      <th>14859</th>\n",
              "      <td>2020-11-27</td>\n",
              "      <td>Virginia</td>\n",
              "      <td>51</td>\n",
              "      <td>230444</td>\n",
              "      <td>4044</td>\n",
              "    </tr>\n",
              "    <tr>\n",
              "      <th>14860</th>\n",
              "      <td>2020-11-27</td>\n",
              "      <td>Washington</td>\n",
              "      <td>53</td>\n",
              "      <td>165230</td>\n",
              "      <td>2828</td>\n",
              "    </tr>\n",
              "    <tr>\n",
              "      <th>14861</th>\n",
              "      <td>2020-11-27</td>\n",
              "      <td>West Virginia</td>\n",
              "      <td>54</td>\n",
              "      <td>45046</td>\n",
              "      <td>712</td>\n",
              "    </tr>\n",
              "    <tr>\n",
              "      <th>14862</th>\n",
              "      <td>2020-11-27</td>\n",
              "      <td>Wisconsin</td>\n",
              "      <td>55</td>\n",
              "      <td>399557</td>\n",
              "      <td>3444</td>\n",
              "    </tr>\n",
              "    <tr>\n",
              "      <th>14863</th>\n",
              "      <td>2020-11-27</td>\n",
              "      <td>Wyoming</td>\n",
              "      <td>56</td>\n",
              "      <td>31773</td>\n",
              "      <td>215</td>\n",
              "    </tr>\n",
              "  </tbody>\n",
              "</table>\n",
              "</div>"
            ],
            "text/plain": [
              "             date           state  fips   cases  deaths\n",
              "14858  2020-11-27  Virgin Islands    78    1521      23\n",
              "14859  2020-11-27        Virginia    51  230444    4044\n",
              "14860  2020-11-27      Washington    53  165230    2828\n",
              "14861  2020-11-27   West Virginia    54   45046     712\n",
              "14862  2020-11-27       Wisconsin    55  399557    3444\n",
              "14863  2020-11-27         Wyoming    56   31773     215"
            ]
          },
          "metadata": {
            "tags": []
          },
          "execution_count": 71
        }
      ]
    },
    {
      "cell_type": "markdown",
      "metadata": {
        "id": "tcDKY-CyTSHY"
      },
      "source": [
        "# Maryland HHS state data\n",
        "## Cleaning up data and creating appropriate dataframe for it"
      ]
    },
    {
      "cell_type": "code",
      "metadata": {
        "colab": {
          "base_uri": "https://localhost:8080/",
          "height": 357
        },
        "id": "xlXc6KBWN843",
        "outputId": "20a33e36-7a3f-446a-9f7f-87d9a90e793a"
      },
      "source": [
        "# Preview MD HHS data\n",
        "df_MD_HHS.head(10)"
      ],
      "execution_count": 120,
      "outputs": [
        {
          "output_type": "execute_result",
          "data": {
            "text/html": [
              "<div>\n",
              "<style scoped>\n",
              "    .dataframe tbody tr th:only-of-type {\n",
              "        vertical-align: middle;\n",
              "    }\n",
              "\n",
              "    .dataframe tbody tr th {\n",
              "        vertical-align: top;\n",
              "    }\n",
              "\n",
              "    .dataframe thead th {\n",
              "        text-align: right;\n",
              "    }\n",
              "</style>\n",
              "<table border=\"1\" class=\"dataframe\">\n",
              "  <thead>\n",
              "    <tr style=\"text-align: right;\">\n",
              "      <th></th>\n",
              "      <th>objectid</th>\n",
              "      <th>reportdate</th>\n",
              "      <th>under35</th>\n",
              "      <th>over35</th>\n",
              "      <th>testingvolume</th>\n",
              "    </tr>\n",
              "  </thead>\n",
              "  <tbody>\n",
              "    <tr>\n",
              "      <th>0</th>\n",
              "      <td>1</td>\n",
              "      <td>2020-03-23T10:00:00.000</td>\n",
              "      <td>NaN</td>\n",
              "      <td>NaN</td>\n",
              "      <td>955</td>\n",
              "    </tr>\n",
              "    <tr>\n",
              "      <th>1</th>\n",
              "      <td>2</td>\n",
              "      <td>2020-03-24T10:00:00.000</td>\n",
              "      <td>NaN</td>\n",
              "      <td>NaN</td>\n",
              "      <td>1120</td>\n",
              "    </tr>\n",
              "    <tr>\n",
              "      <th>2</th>\n",
              "      <td>3</td>\n",
              "      <td>2020-03-25T10:00:00.000</td>\n",
              "      <td>NaN</td>\n",
              "      <td>NaN</td>\n",
              "      <td>3340</td>\n",
              "    </tr>\n",
              "    <tr>\n",
              "      <th>3</th>\n",
              "      <td>4</td>\n",
              "      <td>2020-03-26T10:00:00.000</td>\n",
              "      <td>NaN</td>\n",
              "      <td>NaN</td>\n",
              "      <td>1820</td>\n",
              "    </tr>\n",
              "    <tr>\n",
              "      <th>4</th>\n",
              "      <td>5</td>\n",
              "      <td>2020-03-27T10:00:00.000</td>\n",
              "      <td>NaN</td>\n",
              "      <td>NaN</td>\n",
              "      <td>3075</td>\n",
              "    </tr>\n",
              "    <tr>\n",
              "      <th>5</th>\n",
              "      <td>6</td>\n",
              "      <td>2020-03-28T10:00:00.000</td>\n",
              "      <td>NaN</td>\n",
              "      <td>NaN</td>\n",
              "      <td>1308</td>\n",
              "    </tr>\n",
              "    <tr>\n",
              "      <th>6</th>\n",
              "      <td>7</td>\n",
              "      <td>2020-03-29T10:00:00.000</td>\n",
              "      <td>9.56</td>\n",
              "      <td>12.00</td>\n",
              "      <td>1585</td>\n",
              "    </tr>\n",
              "    <tr>\n",
              "      <th>7</th>\n",
              "      <td>8</td>\n",
              "      <td>2020-03-30T10:00:00.000</td>\n",
              "      <td>10.06</td>\n",
              "      <td>13.34</td>\n",
              "      <td>2054</td>\n",
              "    </tr>\n",
              "    <tr>\n",
              "      <th>8</th>\n",
              "      <td>9</td>\n",
              "      <td>2020-03-31T10:00:00.000</td>\n",
              "      <td>11.03</td>\n",
              "      <td>14.76</td>\n",
              "      <td>2947</td>\n",
              "    </tr>\n",
              "    <tr>\n",
              "      <th>9</th>\n",
              "      <td>10</td>\n",
              "      <td>2020-04-01T10:00:00.000</td>\n",
              "      <td>11.52</td>\n",
              "      <td>15.70</td>\n",
              "      <td>2538</td>\n",
              "    </tr>\n",
              "  </tbody>\n",
              "</table>\n",
              "</div>"
            ],
            "text/plain": [
              "   objectid               reportdate  under35  over35  testingvolume\n",
              "0         1  2020-03-23T10:00:00.000      NaN     NaN            955\n",
              "1         2  2020-03-24T10:00:00.000      NaN     NaN           1120\n",
              "2         3  2020-03-25T10:00:00.000      NaN     NaN           3340\n",
              "3         4  2020-03-26T10:00:00.000      NaN     NaN           1820\n",
              "4         5  2020-03-27T10:00:00.000      NaN     NaN           3075\n",
              "5         6  2020-03-28T10:00:00.000      NaN     NaN           1308\n",
              "6         7  2020-03-29T10:00:00.000     9.56   12.00           1585\n",
              "7         8  2020-03-30T10:00:00.000    10.06   13.34           2054\n",
              "8         9  2020-03-31T10:00:00.000    11.03   14.76           2947\n",
              "9        10  2020-04-01T10:00:00.000    11.52   15.70           2538"
            ]
          },
          "metadata": {
            "tags": []
          },
          "execution_count": 120
        }
      ]
    },
    {
      "cell_type": "code",
      "metadata": {
        "colab": {
          "base_uri": "https://localhost:8080/",
          "height": 357
        },
        "id": "ryEMeC3KOQMs",
        "outputId": "a69e41ae-b82f-435c-ce14-42ab1c814184"
      },
      "source": [
        "# Preview MD HHS data\n",
        "df_MD_HHS.tail(10)"
      ],
      "execution_count": 121,
      "outputs": [
        {
          "output_type": "execute_result",
          "data": {
            "text/html": [
              "<div>\n",
              "<style scoped>\n",
              "    .dataframe tbody tr th:only-of-type {\n",
              "        vertical-align: middle;\n",
              "    }\n",
              "\n",
              "    .dataframe tbody tr th {\n",
              "        vertical-align: top;\n",
              "    }\n",
              "\n",
              "    .dataframe thead th {\n",
              "        text-align: right;\n",
              "    }\n",
              "</style>\n",
              "<table border=\"1\" class=\"dataframe\">\n",
              "  <thead>\n",
              "    <tr style=\"text-align: right;\">\n",
              "      <th></th>\n",
              "      <th>objectid</th>\n",
              "      <th>reportdate</th>\n",
              "      <th>under35</th>\n",
              "      <th>over35</th>\n",
              "      <th>testingvolume</th>\n",
              "    </tr>\n",
              "  </thead>\n",
              "  <tbody>\n",
              "    <tr>\n",
              "      <th>243</th>\n",
              "      <td>244</td>\n",
              "      <td>2020-11-21T10:00:00.000</td>\n",
              "      <td>7.03</td>\n",
              "      <td>6.67</td>\n",
              "      <td>49922</td>\n",
              "    </tr>\n",
              "    <tr>\n",
              "      <th>244</th>\n",
              "      <td>245</td>\n",
              "      <td>2020-11-22T10:00:00.000</td>\n",
              "      <td>7.11</td>\n",
              "      <td>6.73</td>\n",
              "      <td>31242</td>\n",
              "    </tr>\n",
              "    <tr>\n",
              "      <th>245</th>\n",
              "      <td>246</td>\n",
              "      <td>2020-11-23T10:00:00.000</td>\n",
              "      <td>6.79</td>\n",
              "      <td>6.48</td>\n",
              "      <td>29162</td>\n",
              "    </tr>\n",
              "    <tr>\n",
              "      <th>246</th>\n",
              "      <td>247</td>\n",
              "      <td>2020-11-24T10:00:00.000</td>\n",
              "      <td>6.80</td>\n",
              "      <td>6.34</td>\n",
              "      <td>45495</td>\n",
              "    </tr>\n",
              "    <tr>\n",
              "      <th>247</th>\n",
              "      <td>248</td>\n",
              "      <td>2020-11-25T10:00:00.000</td>\n",
              "      <td>6.65</td>\n",
              "      <td>6.20</td>\n",
              "      <td>41777</td>\n",
              "    </tr>\n",
              "    <tr>\n",
              "      <th>248</th>\n",
              "      <td>249</td>\n",
              "      <td>2020-11-26T10:00:00.000</td>\n",
              "      <td>6.57</td>\n",
              "      <td>6.12</td>\n",
              "      <td>47304</td>\n",
              "    </tr>\n",
              "    <tr>\n",
              "      <th>249</th>\n",
              "      <td>250</td>\n",
              "      <td>2020-11-27T10:00:00.000</td>\n",
              "      <td>6.69</td>\n",
              "      <td>6.18</td>\n",
              "      <td>27706</td>\n",
              "    </tr>\n",
              "    <tr>\n",
              "      <th>250</th>\n",
              "      <td>251</td>\n",
              "      <td>2020-11-28T10:00:00.000</td>\n",
              "      <td>6.87</td>\n",
              "      <td>6.31</td>\n",
              "      <td>39249</td>\n",
              "    </tr>\n",
              "    <tr>\n",
              "      <th>251</th>\n",
              "      <td>252</td>\n",
              "      <td>2020-11-29T10:00:00.000</td>\n",
              "      <td>7.25</td>\n",
              "      <td>6.62</td>\n",
              "      <td>27350</td>\n",
              "    </tr>\n",
              "    <tr>\n",
              "      <th>252</th>\n",
              "      <td>253</td>\n",
              "      <td>2020-11-30T10:00:00.000</td>\n",
              "      <td>7.75</td>\n",
              "      <td>7.08</td>\n",
              "      <td>30697</td>\n",
              "    </tr>\n",
              "  </tbody>\n",
              "</table>\n",
              "</div>"
            ],
            "text/plain": [
              "     objectid               reportdate  under35  over35  testingvolume\n",
              "243       244  2020-11-21T10:00:00.000     7.03    6.67          49922\n",
              "244       245  2020-11-22T10:00:00.000     7.11    6.73          31242\n",
              "245       246  2020-11-23T10:00:00.000     6.79    6.48          29162\n",
              "246       247  2020-11-24T10:00:00.000     6.80    6.34          45495\n",
              "247       248  2020-11-25T10:00:00.000     6.65    6.20          41777\n",
              "248       249  2020-11-26T10:00:00.000     6.57    6.12          47304\n",
              "249       250  2020-11-27T10:00:00.000     6.69    6.18          27706\n",
              "250       251  2020-11-28T10:00:00.000     6.87    6.31          39249\n",
              "251       252  2020-11-29T10:00:00.000     7.25    6.62          27350\n",
              "252       253  2020-11-30T10:00:00.000     7.75    7.08          30697"
            ]
          },
          "metadata": {
            "tags": []
          },
          "execution_count": 121
        }
      ]
    },
    {
      "cell_type": "code",
      "metadata": {
        "colab": {
          "base_uri": "https://localhost:8080/"
        },
        "id": "zlAMY64XHvnd",
        "outputId": "e30fdabb-4d46-4f29-f090-59c6364c06fa"
      },
      "source": [
        "# Create data frame to test code with. df.shape returns number of rows (i) and columns (0)\n",
        "df_edit_MD_HHS = df_MD_HHS\n",
        "df_edit_MD_HHS.tail()\n",
        "df_edit_MD_HHS.shape"
      ],
      "execution_count": 87,
      "outputs": [
        {
          "output_type": "execute_result",
          "data": {
            "text/plain": [
              "(253, 5)"
            ]
          },
          "metadata": {
            "tags": []
          },
          "execution_count": 87
        }
      ]
    },
    {
      "cell_type": "code",
      "metadata": {
        "id": "0_H5SkX1IKdZ"
      },
      "source": [
        "# Creates blank list for split data to be stored in e.g. df_split_MD_HHS\n",
        "# Uses for loop to look over entire column (date column '1') and splits the data at the T point. [0] after indicates keep the first part of the split\n",
        "df_split_MD_HHS = []\n",
        "for i in range(df_edit_MD_HHS.shape[0]):\n",
        "  df_split_MD_HHS.append(df_edit_MD_HHS.iloc[i,1].split('T')[0])  "
      ],
      "execution_count": 122,
      "outputs": []
    },
    {
      "cell_type": "code",
      "metadata": {
        "colab": {
          "base_uri": "https://localhost:8080/",
          "height": 203
        },
        "id": "YjxcYlRyMjno",
        "outputId": "1cbda31a-621a-404b-9096-ba4c0d7afb2c"
      },
      "source": [
        "# Converts list to dataframe\n",
        "dfObj = pd.DataFrame(df_split_MD_HHS, columns = ['date'])\n",
        "#preview newly created dataframe\n",
        "dfObj.head()"
      ],
      "execution_count": 123,
      "outputs": [
        {
          "output_type": "execute_result",
          "data": {
            "text/html": [
              "<div>\n",
              "<style scoped>\n",
              "    .dataframe tbody tr th:only-of-type {\n",
              "        vertical-align: middle;\n",
              "    }\n",
              "\n",
              "    .dataframe tbody tr th {\n",
              "        vertical-align: top;\n",
              "    }\n",
              "\n",
              "    .dataframe thead th {\n",
              "        text-align: right;\n",
              "    }\n",
              "</style>\n",
              "<table border=\"1\" class=\"dataframe\">\n",
              "  <thead>\n",
              "    <tr style=\"text-align: right;\">\n",
              "      <th></th>\n",
              "      <th>date</th>\n",
              "    </tr>\n",
              "  </thead>\n",
              "  <tbody>\n",
              "    <tr>\n",
              "      <th>0</th>\n",
              "      <td>2020-03-23</td>\n",
              "    </tr>\n",
              "    <tr>\n",
              "      <th>1</th>\n",
              "      <td>2020-03-24</td>\n",
              "    </tr>\n",
              "    <tr>\n",
              "      <th>2</th>\n",
              "      <td>2020-03-25</td>\n",
              "    </tr>\n",
              "    <tr>\n",
              "      <th>3</th>\n",
              "      <td>2020-03-26</td>\n",
              "    </tr>\n",
              "    <tr>\n",
              "      <th>4</th>\n",
              "      <td>2020-03-27</td>\n",
              "    </tr>\n",
              "  </tbody>\n",
              "</table>\n",
              "</div>"
            ],
            "text/plain": [
              "         date\n",
              "0  2020-03-23\n",
              "1  2020-03-24\n",
              "2  2020-03-25\n",
              "3  2020-03-26\n",
              "4  2020-03-27"
            ]
          },
          "metadata": {
            "tags": []
          },
          "execution_count": 123
        }
      ]
    },
    {
      "cell_type": "code",
      "metadata": {
        "colab": {
          "base_uri": "https://localhost:8080/",
          "height": 203
        },
        "id": "9ArdKbi2ZcMV",
        "outputId": "0534d4e5-1cd8-4e31-879a-1692bad8c191"
      },
      "source": [
        "# Fill report date with split date info from dfObj dataframe\n",
        "df_MD_HHS[\"reportdate\"] = dfObj[\"date\"]\n",
        "df_MD_HHS.head()"
      ],
      "execution_count": 124,
      "outputs": [
        {
          "output_type": "execute_result",
          "data": {
            "text/html": [
              "<div>\n",
              "<style scoped>\n",
              "    .dataframe tbody tr th:only-of-type {\n",
              "        vertical-align: middle;\n",
              "    }\n",
              "\n",
              "    .dataframe tbody tr th {\n",
              "        vertical-align: top;\n",
              "    }\n",
              "\n",
              "    .dataframe thead th {\n",
              "        text-align: right;\n",
              "    }\n",
              "</style>\n",
              "<table border=\"1\" class=\"dataframe\">\n",
              "  <thead>\n",
              "    <tr style=\"text-align: right;\">\n",
              "      <th></th>\n",
              "      <th>objectid</th>\n",
              "      <th>reportdate</th>\n",
              "      <th>under35</th>\n",
              "      <th>over35</th>\n",
              "      <th>testingvolume</th>\n",
              "    </tr>\n",
              "  </thead>\n",
              "  <tbody>\n",
              "    <tr>\n",
              "      <th>0</th>\n",
              "      <td>1</td>\n",
              "      <td>2020-03-23</td>\n",
              "      <td>NaN</td>\n",
              "      <td>NaN</td>\n",
              "      <td>955</td>\n",
              "    </tr>\n",
              "    <tr>\n",
              "      <th>1</th>\n",
              "      <td>2</td>\n",
              "      <td>2020-03-24</td>\n",
              "      <td>NaN</td>\n",
              "      <td>NaN</td>\n",
              "      <td>1120</td>\n",
              "    </tr>\n",
              "    <tr>\n",
              "      <th>2</th>\n",
              "      <td>3</td>\n",
              "      <td>2020-03-25</td>\n",
              "      <td>NaN</td>\n",
              "      <td>NaN</td>\n",
              "      <td>3340</td>\n",
              "    </tr>\n",
              "    <tr>\n",
              "      <th>3</th>\n",
              "      <td>4</td>\n",
              "      <td>2020-03-26</td>\n",
              "      <td>NaN</td>\n",
              "      <td>NaN</td>\n",
              "      <td>1820</td>\n",
              "    </tr>\n",
              "    <tr>\n",
              "      <th>4</th>\n",
              "      <td>5</td>\n",
              "      <td>2020-03-27</td>\n",
              "      <td>NaN</td>\n",
              "      <td>NaN</td>\n",
              "      <td>3075</td>\n",
              "    </tr>\n",
              "  </tbody>\n",
              "</table>\n",
              "</div>"
            ],
            "text/plain": [
              "   objectid  reportdate  under35  over35  testingvolume\n",
              "0         1  2020-03-23      NaN     NaN            955\n",
              "1         2  2020-03-24      NaN     NaN           1120\n",
              "2         3  2020-03-25      NaN     NaN           3340\n",
              "3         4  2020-03-26      NaN     NaN           1820\n",
              "4         5  2020-03-27      NaN     NaN           3075"
            ]
          },
          "metadata": {
            "tags": []
          },
          "execution_count": 124
        }
      ]
    },
    {
      "cell_type": "code",
      "metadata": {
        "colab": {
          "base_uri": "https://localhost:8080/",
          "height": 203
        },
        "id": "05DyNKj7aoNh",
        "outputId": "cbc70fbc-4a70-449f-b8d8-5c004d73afc5"
      },
      "source": [
        "# Rename column headings so can be merged with other data sets if desired\n",
        "df_MD_HHS = df_MD_HHS.rename(columns={\"reportdate\" : \"date\",\n",
        "                                \"under35\": \"% pos. under 35 yrs\",\n",
        "                               \"over35\": \"% pos. over 35 yrs\"})\n",
        "df_MD_HHS.head()"
      ],
      "execution_count": 125,
      "outputs": [
        {
          "output_type": "execute_result",
          "data": {
            "text/html": [
              "<div>\n",
              "<style scoped>\n",
              "    .dataframe tbody tr th:only-of-type {\n",
              "        vertical-align: middle;\n",
              "    }\n",
              "\n",
              "    .dataframe tbody tr th {\n",
              "        vertical-align: top;\n",
              "    }\n",
              "\n",
              "    .dataframe thead th {\n",
              "        text-align: right;\n",
              "    }\n",
              "</style>\n",
              "<table border=\"1\" class=\"dataframe\">\n",
              "  <thead>\n",
              "    <tr style=\"text-align: right;\">\n",
              "      <th></th>\n",
              "      <th>objectid</th>\n",
              "      <th>date</th>\n",
              "      <th>% pos. under 35 yrs</th>\n",
              "      <th>% pos. over 35 yrs</th>\n",
              "      <th>testingvolume</th>\n",
              "    </tr>\n",
              "  </thead>\n",
              "  <tbody>\n",
              "    <tr>\n",
              "      <th>0</th>\n",
              "      <td>1</td>\n",
              "      <td>2020-03-23</td>\n",
              "      <td>NaN</td>\n",
              "      <td>NaN</td>\n",
              "      <td>955</td>\n",
              "    </tr>\n",
              "    <tr>\n",
              "      <th>1</th>\n",
              "      <td>2</td>\n",
              "      <td>2020-03-24</td>\n",
              "      <td>NaN</td>\n",
              "      <td>NaN</td>\n",
              "      <td>1120</td>\n",
              "    </tr>\n",
              "    <tr>\n",
              "      <th>2</th>\n",
              "      <td>3</td>\n",
              "      <td>2020-03-25</td>\n",
              "      <td>NaN</td>\n",
              "      <td>NaN</td>\n",
              "      <td>3340</td>\n",
              "    </tr>\n",
              "    <tr>\n",
              "      <th>3</th>\n",
              "      <td>4</td>\n",
              "      <td>2020-03-26</td>\n",
              "      <td>NaN</td>\n",
              "      <td>NaN</td>\n",
              "      <td>1820</td>\n",
              "    </tr>\n",
              "    <tr>\n",
              "      <th>4</th>\n",
              "      <td>5</td>\n",
              "      <td>2020-03-27</td>\n",
              "      <td>NaN</td>\n",
              "      <td>NaN</td>\n",
              "      <td>3075</td>\n",
              "    </tr>\n",
              "  </tbody>\n",
              "</table>\n",
              "</div>"
            ],
            "text/plain": [
              "   objectid        date  % pos. under 35 yrs  % pos. over 35 yrs  testingvolume\n",
              "0         1  2020-03-23                  NaN                 NaN            955\n",
              "1         2  2020-03-24                  NaN                 NaN           1120\n",
              "2         3  2020-03-25                  NaN                 NaN           3340\n",
              "3         4  2020-03-26                  NaN                 NaN           1820\n",
              "4         5  2020-03-27                  NaN                 NaN           3075"
            ]
          },
          "metadata": {
            "tags": []
          },
          "execution_count": 125
        }
      ]
    },
    {
      "cell_type": "code",
      "metadata": {
        "colab": {
          "base_uri": "https://localhost:8080/"
        },
        "id": "aOgXcD4Dbp68",
        "outputId": "7db634b5-fe37-4942-f624-06b603c6a897"
      },
      "source": [
        "df_MD_HHS.info()"
      ],
      "execution_count": 127,
      "outputs": [
        {
          "output_type": "stream",
          "text": [
            "<class 'pandas.core.frame.DataFrame'>\n",
            "RangeIndex: 253 entries, 0 to 252\n",
            "Data columns (total 5 columns):\n",
            " #   Column               Non-Null Count  Dtype  \n",
            "---  ------               --------------  -----  \n",
            " 0   objectid             253 non-null    int64  \n",
            " 1   date                 253 non-null    object \n",
            " 2   % pos. under 35 yrs  247 non-null    float64\n",
            " 3   % pos. over 35 yrs   247 non-null    float64\n",
            " 4   testingvolume        253 non-null    int64  \n",
            "dtypes: float64(2), int64(2), object(1)\n",
            "memory usage: 10.0+ KB\n"
          ],
          "name": "stdout"
        }
      ]
    },
    {
      "cell_type": "markdown",
      "metadata": {
        "id": "A_7XgDkfQdrm"
      },
      "source": [
        "# Data Filtering"
      ]
    },
    {
      "cell_type": "code",
      "metadata": {
        "id": "SV2Aqo0wAGCy",
        "colab": {
          "base_uri": "https://localhost:8080/"
        },
        "outputId": "9f4fcdd2-a739-487e-f4fc-ef669e36e368"
      },
      "source": [
        "# Filter Data\n",
        "# Look at all of the column names in the state data set. This is useful to do prior to creating new dataset so can pull exact name in order to select appropriate column\n",
        "#Format is df_name.columns\n",
        "df_NYT_Covid_19_states_20201127.columns"
      ],
      "execution_count": 10,
      "outputs": [
        {
          "output_type": "execute_result",
          "data": {
            "text/plain": [
              "Index(['date', 'state', 'fips', 'cases', 'deaths'], dtype='object')"
            ]
          },
          "metadata": {
            "tags": []
          },
          "execution_count": 10
        }
      ]
    },
    {
      "cell_type": "code",
      "metadata": {
        "colab": {
          "base_uri": "https://localhost:8080/"
        },
        "id": "tcFPXjVmJtpl",
        "outputId": "5324879d-b775-435a-8a89-e8130a7bedc0"
      },
      "source": [
        "# Look at all of the column names in the county level data \n",
        "df_NYT_Covid_19_counties_20201127.columns"
      ],
      "execution_count": 72,
      "outputs": [
        {
          "output_type": "execute_result",
          "data": {
            "text/plain": [
              "Index(['date', 'county', 'state', 'fips', 'cases', 'deaths'], dtype='object')"
            ]
          },
          "metadata": {
            "tags": []
          },
          "execution_count": 72
        }
      ]
    },
    {
      "cell_type": "code",
      "metadata": {
        "colab": {
          "base_uri": "https://localhost:8080/"
        },
        "id": "MLIs3w9iSxbp",
        "outputId": "a80167bd-f24a-4109-de66-30c6b1ebcafd"
      },
      "source": [
        "# Look at all of the column names in the MD HHS data\n",
        "df_MD_HHS.columns"
      ],
      "execution_count": 49,
      "outputs": [
        {
          "output_type": "execute_result",
          "data": {
            "text/plain": [
              "Index(['objectid', 'reportdate', 'under35', 'over35', 'testingvolume'], dtype='object')"
            ]
          },
          "metadata": {
            "tags": []
          },
          "execution_count": 49
        }
      ]
    },
    {
      "cell_type": "code",
      "metadata": {
        "colab": {
          "base_uri": "https://localhost:8080/"
        },
        "id": "hZ94AFN5TUQo",
        "outputId": "b3237ecd-2242-40bc-ab69-2ebf1790baa5"
      },
      "source": [
        "# Look at object types of data set\n",
        "df_MD_HHS.info()"
      ],
      "execution_count": 51,
      "outputs": [
        {
          "output_type": "stream",
          "text": [
            "<class 'pandas.core.frame.DataFrame'>\n",
            "RangeIndex: 252 entries, 0 to 251\n",
            "Data columns (total 5 columns):\n",
            " #   Column         Non-Null Count  Dtype  \n",
            "---  ------         --------------  -----  \n",
            " 0   objectid       252 non-null    int64  \n",
            " 1   reportdate     252 non-null    object \n",
            " 2   under35        246 non-null    float64\n",
            " 3   over35         246 non-null    float64\n",
            " 4   testingvolume  252 non-null    int64  \n",
            "dtypes: float64(2), int64(2), object(1)\n",
            "memory usage: 10.0+ KB\n"
          ],
          "name": "stdout"
        }
      ]
    },
    {
      "cell_type": "code",
      "metadata": {
        "colab": {
          "base_uri": "https://localhost:8080/"
        },
        "id": "RuXvGuAB9z3B",
        "outputId": "3bebbfdb-f267-45db-a366-d35a770f552f"
      },
      "source": [
        "#look at unique values in columns -> useful for grabbing exact value searching for e.g. 'Maryland' with data repository spelling\n",
        "# Format is df_name[\"column name of interest\"].unique()\n",
        "df_NYT_Covid_19_states_20201127[\"state\"].unique()"
      ],
      "execution_count": 19,
      "outputs": [
        {
          "output_type": "execute_result",
          "data": {
            "text/plain": [
              "array(['Washington', 'Illinois', 'California', 'Arizona', 'Massachusetts',\n",
              "       'Wisconsin', 'Texas', 'Nebraska', 'Utah', 'Oregon', 'Florida',\n",
              "       'New York', 'Rhode Island', 'Georgia', 'New Hampshire',\n",
              "       'North Carolina', 'New Jersey', 'Colorado', 'Maryland', 'Nevada',\n",
              "       'Tennessee', 'Hawaii', 'Indiana', 'Kentucky', 'Minnesota',\n",
              "       'Oklahoma', 'Pennsylvania', 'South Carolina',\n",
              "       'District of Columbia', 'Kansas', 'Missouri', 'Vermont',\n",
              "       'Virginia', 'Connecticut', 'Iowa', 'Louisiana', 'Ohio', 'Michigan',\n",
              "       'South Dakota', 'Arkansas', 'Delaware', 'Mississippi',\n",
              "       'New Mexico', 'North Dakota', 'Wyoming', 'Alaska', 'Maine',\n",
              "       'Alabama', 'Idaho', 'Montana', 'Puerto Rico', 'Virgin Islands',\n",
              "       'Guam', 'West Virginia', 'Northern Mariana Islands'], dtype=object)"
            ]
          },
          "metadata": {
            "tags": []
          },
          "execution_count": 19
        }
      ]
    },
    {
      "cell_type": "code",
      "metadata": {
        "colab": {
          "base_uri": "https://localhost:8080/"
        },
        "id": "kTtFb6oNKOCS",
        "outputId": "a1dc4f77-e928-467e-88a9-c6ed4cf2e33d"
      },
      "source": [
        "# look at unique names in columns for county level data\n",
        "df_NYT_Covid_19_counties_20201127[\"county\"].unique()"
      ],
      "execution_count": 73,
      "outputs": [
        {
          "output_type": "execute_result",
          "data": {
            "text/plain": [
              "array(['Snohomish', 'Cook', 'Orange', ..., 'Skagway Municipality',\n",
              "       'Esmeralda', 'Loving'], dtype=object)"
            ]
          },
          "metadata": {
            "tags": []
          },
          "execution_count": 73
        }
      ]
    },
    {
      "cell_type": "code",
      "metadata": {
        "colab": {
          "base_uri": "https://localhost:8080/"
        },
        "id": "tOppHzs2AsDV",
        "outputId": "2cce226f-9f0c-43cb-8034-9f780356331e"
      },
      "source": [
        "#df_name[\"column heading of interest\"].unique - pulls entire list with repeats as well included, basically full printout of column\n",
        "df_NYT_Covid_19_states_20201127[\"state\"].unique"
      ],
      "execution_count": 32,
      "outputs": [
        {
          "output_type": "execute_result",
          "data": {
            "text/plain": [
              "<bound method Series.unique of 0           Washington\n",
              "1           Washington\n",
              "2           Washington\n",
              "3             Illinois\n",
              "4           Washington\n",
              "             ...      \n",
              "14859         Virginia\n",
              "14860       Washington\n",
              "14861    West Virginia\n",
              "14862        Wisconsin\n",
              "14863          Wyoming\n",
              "Name: state, Length: 14864, dtype: object>"
            ]
          },
          "metadata": {
            "tags": []
          },
          "execution_count": 32
        }
      ]
    },
    {
      "cell_type": "code",
      "metadata": {
        "colab": {
          "base_uri": "https://localhost:8080/"
        },
        "id": "2Jy8yhbpWh8w",
        "outputId": "4fb15880-3d26-4b92-ef0a-6f904e320f7a"
      },
      "source": [
        "# df_name[\"\"].nunique() - gives total number of unique state + territories listed\n",
        "df_NYT_Covid_19_states_20201127[\"state\"].nunique()"
      ],
      "execution_count": 14,
      "outputs": [
        {
          "output_type": "execute_result",
          "data": {
            "text/plain": [
              "55"
            ]
          },
          "metadata": {
            "tags": []
          },
          "execution_count": 14
        }
      ]
    },
    {
      "cell_type": "code",
      "metadata": {
        "colab": {
          "base_uri": "https://localhost:8080/",
          "height": 203
        },
        "id": "ivf_RqsCCEA4",
        "outputId": "1c2edb70-afb1-4d76-e93b-faf60dae2882"
      },
      "source": [
        "df_NYT_Covid_19_Maryland_20201127.head(5)"
      ],
      "execution_count": 15,
      "outputs": [
        {
          "output_type": "execute_result",
          "data": {
            "text/html": [
              "<div>\n",
              "<style scoped>\n",
              "    .dataframe tbody tr th:only-of-type {\n",
              "        vertical-align: middle;\n",
              "    }\n",
              "\n",
              "    .dataframe tbody tr th {\n",
              "        vertical-align: top;\n",
              "    }\n",
              "\n",
              "    .dataframe thead th {\n",
              "        text-align: right;\n",
              "    }\n",
              "</style>\n",
              "<table border=\"1\" class=\"dataframe\">\n",
              "  <thead>\n",
              "    <tr style=\"text-align: right;\">\n",
              "      <th></th>\n",
              "      <th>date</th>\n",
              "      <th>state</th>\n",
              "      <th>fips</th>\n",
              "      <th>cases</th>\n",
              "      <th>deaths</th>\n",
              "    </tr>\n",
              "  </thead>\n",
              "  <tbody>\n",
              "    <tr>\n",
              "      <th>307</th>\n",
              "      <td>2020-03-05</td>\n",
              "      <td>Maryland</td>\n",
              "      <td>24</td>\n",
              "      <td>3</td>\n",
              "      <td>0</td>\n",
              "    </tr>\n",
              "    <tr>\n",
              "      <th>331</th>\n",
              "      <td>2020-03-06</td>\n",
              "      <td>Maryland</td>\n",
              "      <td>24</td>\n",
              "      <td>3</td>\n",
              "      <td>0</td>\n",
              "    </tr>\n",
              "    <tr>\n",
              "      <th>361</th>\n",
              "      <td>2020-03-07</td>\n",
              "      <td>Maryland</td>\n",
              "      <td>24</td>\n",
              "      <td>3</td>\n",
              "      <td>0</td>\n",
              "    </tr>\n",
              "    <tr>\n",
              "      <th>396</th>\n",
              "      <td>2020-03-08</td>\n",
              "      <td>Maryland</td>\n",
              "      <td>24</td>\n",
              "      <td>5</td>\n",
              "      <td>0</td>\n",
              "    </tr>\n",
              "    <tr>\n",
              "      <th>432</th>\n",
              "      <td>2020-03-09</td>\n",
              "      <td>Maryland</td>\n",
              "      <td>24</td>\n",
              "      <td>6</td>\n",
              "      <td>0</td>\n",
              "    </tr>\n",
              "  </tbody>\n",
              "</table>\n",
              "</div>"
            ],
            "text/plain": [
              "           date     state  fips  cases  deaths\n",
              "307  2020-03-05  Maryland    24      3       0\n",
              "331  2020-03-06  Maryland    24      3       0\n",
              "361  2020-03-07  Maryland    24      3       0\n",
              "396  2020-03-08  Maryland    24      5       0\n",
              "432  2020-03-09  Maryland    24      6       0"
            ]
          },
          "metadata": {
            "tags": []
          },
          "execution_count": 15
        }
      ]
    },
    {
      "cell_type": "code",
      "metadata": {
        "colab": {
          "base_uri": "https://localhost:8080/"
        },
        "id": "oLi8C5vVYH5I",
        "outputId": "9784f526-541c-4bea-a651-47b94a487efd"
      },
      "source": [
        "# df_name.info() - gives high level data about data frame that is called e.g. # columns, column name, information types\n",
        "df_NYT_Covid_19_Maryland_20201127.info()"
      ],
      "execution_count": 34,
      "outputs": [
        {
          "output_type": "stream",
          "text": [
            "<class 'pandas.core.frame.DataFrame'>\n",
            "Int64Index: 268 entries, 307 to 14830\n",
            "Data columns (total 5 columns):\n",
            " #   Column  Non-Null Count  Dtype \n",
            "---  ------  --------------  ----- \n",
            " 0   date    268 non-null    object\n",
            " 1   state   268 non-null    object\n",
            " 2   fips    268 non-null    int64 \n",
            " 3   cases   268 non-null    int64 \n",
            " 4   deaths  268 non-null    int64 \n",
            "dtypes: int64(3), object(2)\n",
            "memory usage: 12.6+ KB\n"
          ],
          "name": "stdout"
        }
      ]
    },
    {
      "cell_type": "code",
      "metadata": {
        "colab": {
          "base_uri": "https://localhost:8080/",
          "height": 295
        },
        "id": "FYjjnOBdYoMz",
        "outputId": "3c3574b3-4078-4daf-a062-c63a22a0d7fc"
      },
      "source": [
        "# df_name.describe() - general descriptive statistics, does not pull data for all columns only those that are coded as numbers e.g. int64\n",
        "df_NYT_Covid_19_Maryland_20201127.describe()"
      ],
      "execution_count": 35,
      "outputs": [
        {
          "output_type": "execute_result",
          "data": {
            "text/html": [
              "<div>\n",
              "<style scoped>\n",
              "    .dataframe tbody tr th:only-of-type {\n",
              "        vertical-align: middle;\n",
              "    }\n",
              "\n",
              "    .dataframe tbody tr th {\n",
              "        vertical-align: top;\n",
              "    }\n",
              "\n",
              "    .dataframe thead th {\n",
              "        text-align: right;\n",
              "    }\n",
              "</style>\n",
              "<table border=\"1\" class=\"dataframe\">\n",
              "  <thead>\n",
              "    <tr style=\"text-align: right;\">\n",
              "      <th></th>\n",
              "      <th>fips</th>\n",
              "      <th>cases</th>\n",
              "      <th>deaths</th>\n",
              "    </tr>\n",
              "  </thead>\n",
              "  <tbody>\n",
              "    <tr>\n",
              "      <th>count</th>\n",
              "      <td>268.0</td>\n",
              "      <td>268.000000</td>\n",
              "      <td>268.000000</td>\n",
              "    </tr>\n",
              "    <tr>\n",
              "      <th>mean</th>\n",
              "      <td>24.0</td>\n",
              "      <td>78745.134328</td>\n",
              "      <td>2742.014925</td>\n",
              "    </tr>\n",
              "    <tr>\n",
              "      <th>std</th>\n",
              "      <td>0.0</td>\n",
              "      <td>52722.471567</td>\n",
              "      <td>1479.057173</td>\n",
              "    </tr>\n",
              "    <tr>\n",
              "      <th>min</th>\n",
              "      <td>24.0</td>\n",
              "      <td>3.000000</td>\n",
              "      <td>0.000000</td>\n",
              "    </tr>\n",
              "    <tr>\n",
              "      <th>25%</th>\n",
              "      <td>24.0</td>\n",
              "      <td>33285.500000</td>\n",
              "      <td>1673.250000</td>\n",
              "    </tr>\n",
              "    <tr>\n",
              "      <th>50%</th>\n",
              "      <td>24.0</td>\n",
              "      <td>76589.000000</td>\n",
              "      <td>3353.000000</td>\n",
              "    </tr>\n",
              "    <tr>\n",
              "      <th>75%</th>\n",
              "      <td>24.0</td>\n",
              "      <td>121153.250000</td>\n",
              "      <td>3886.000000</td>\n",
              "    </tr>\n",
              "    <tr>\n",
              "      <th>max</th>\n",
              "      <td>24.0</td>\n",
              "      <td>193205.000000</td>\n",
              "      <td>4569.000000</td>\n",
              "    </tr>\n",
              "  </tbody>\n",
              "</table>\n",
              "</div>"
            ],
            "text/plain": [
              "        fips          cases       deaths\n",
              "count  268.0     268.000000   268.000000\n",
              "mean    24.0   78745.134328  2742.014925\n",
              "std      0.0   52722.471567  1479.057173\n",
              "min     24.0       3.000000     0.000000\n",
              "25%     24.0   33285.500000  1673.250000\n",
              "50%     24.0   76589.000000  3353.000000\n",
              "75%     24.0  121153.250000  3886.000000\n",
              "max     24.0  193205.000000  4569.000000"
            ]
          },
          "metadata": {
            "tags": []
          },
          "execution_count": 35
        }
      ]
    },
    {
      "cell_type": "markdown",
      "metadata": {
        "id": "boWDmRUWh9Ol"
      },
      "source": [
        "# Creating new data frames from imported data"
      ]
    },
    {
      "cell_type": "code",
      "metadata": {
        "id": "QgxN2mxICMsX"
      },
      "source": [
        "#Pull out a column from NYT orig dataframe (df) to new dataframe with data repository names verified as above - pulls out Maryland data\n",
        "df_NYT_Covid_19_Maryland_20201127 = df_NYT_Covid_19_states_20201127[df_NYT_Covid_19_states_20201127[\"state\"]== \"Maryland\"]"
      ],
      "execution_count": 8,
      "outputs": []
    },
    {
      "cell_type": "code",
      "metadata": {
        "colab": {
          "base_uri": "https://localhost:8080/",
          "height": 203
        },
        "id": "kgW7YbQDWS1f",
        "outputId": "3261cd17-0066-4af4-81c7-9208b3f17dd4"
      },
      "source": [
        "#preview new dataframe containing only MD data\n",
        "df_NYT_Covid_19_Maryland_20201127.head()"
      ],
      "execution_count": 13,
      "outputs": [
        {
          "output_type": "execute_result",
          "data": {
            "text/html": [
              "<div>\n",
              "<style scoped>\n",
              "    .dataframe tbody tr th:only-of-type {\n",
              "        vertical-align: middle;\n",
              "    }\n",
              "\n",
              "    .dataframe tbody tr th {\n",
              "        vertical-align: top;\n",
              "    }\n",
              "\n",
              "    .dataframe thead th {\n",
              "        text-align: right;\n",
              "    }\n",
              "</style>\n",
              "<table border=\"1\" class=\"dataframe\">\n",
              "  <thead>\n",
              "    <tr style=\"text-align: right;\">\n",
              "      <th></th>\n",
              "      <th>date</th>\n",
              "      <th>state</th>\n",
              "      <th>fips</th>\n",
              "      <th>cases</th>\n",
              "      <th>deaths</th>\n",
              "    </tr>\n",
              "  </thead>\n",
              "  <tbody>\n",
              "    <tr>\n",
              "      <th>307</th>\n",
              "      <td>2020-03-05</td>\n",
              "      <td>Maryland</td>\n",
              "      <td>24</td>\n",
              "      <td>3</td>\n",
              "      <td>0</td>\n",
              "    </tr>\n",
              "    <tr>\n",
              "      <th>331</th>\n",
              "      <td>2020-03-06</td>\n",
              "      <td>Maryland</td>\n",
              "      <td>24</td>\n",
              "      <td>3</td>\n",
              "      <td>0</td>\n",
              "    </tr>\n",
              "    <tr>\n",
              "      <th>361</th>\n",
              "      <td>2020-03-07</td>\n",
              "      <td>Maryland</td>\n",
              "      <td>24</td>\n",
              "      <td>3</td>\n",
              "      <td>0</td>\n",
              "    </tr>\n",
              "    <tr>\n",
              "      <th>396</th>\n",
              "      <td>2020-03-08</td>\n",
              "      <td>Maryland</td>\n",
              "      <td>24</td>\n",
              "      <td>5</td>\n",
              "      <td>0</td>\n",
              "    </tr>\n",
              "    <tr>\n",
              "      <th>432</th>\n",
              "      <td>2020-03-09</td>\n",
              "      <td>Maryland</td>\n",
              "      <td>24</td>\n",
              "      <td>6</td>\n",
              "      <td>0</td>\n",
              "    </tr>\n",
              "  </tbody>\n",
              "</table>\n",
              "</div>"
            ],
            "text/plain": [
              "           date     state  fips  cases  deaths\n",
              "307  2020-03-05  Maryland    24      3       0\n",
              "331  2020-03-06  Maryland    24      3       0\n",
              "361  2020-03-07  Maryland    24      3       0\n",
              "396  2020-03-08  Maryland    24      5       0\n",
              "432  2020-03-09  Maryland    24      6       0"
            ]
          },
          "metadata": {
            "tags": []
          },
          "execution_count": 13
        }
      ]
    },
    {
      "cell_type": "code",
      "metadata": {
        "colab": {
          "base_uri": "https://localhost:8080/"
        },
        "id": "z6_-OKQ5Kzbl",
        "outputId": "68322d67-0ddb-4d75-caae-d6960cbc943b"
      },
      "source": [
        "# Pull out Montana Data from state level data \n",
        "df_NYT_Covid_19_Montana_20201127 = df_NYT_Covid_19_states_20201127[df_NYT_Covid_19_states_20201127[\"state\"]== \"Montana\"]\n",
        "df_NYT_Covid_19_Montana_20201127.info()"
      ],
      "execution_count": 9,
      "outputs": [
        {
          "output_type": "stream",
          "text": [
            "<class 'pandas.core.frame.DataFrame'>\n",
            "Int64Index: 264 entries, 612 to 15056\n",
            "Data columns (total 5 columns):\n",
            " #   Column  Non-Null Count  Dtype \n",
            "---  ------  --------------  ----- \n",
            " 0   date    264 non-null    object\n",
            " 1   state   264 non-null    object\n",
            " 2   fips    264 non-null    int64 \n",
            " 3   cases   264 non-null    int64 \n",
            " 4   deaths  264 non-null    int64 \n",
            "dtypes: int64(3), object(2)\n",
            "memory usage: 12.4+ KB\n"
          ],
          "name": "stdout"
        }
      ]
    },
    {
      "cell_type": "code",
      "metadata": {
        "colab": {
          "base_uri": "https://localhost:8080/",
          "height": 203
        },
        "id": "7Fm3752ILAUd",
        "outputId": "50ed7741-04db-485c-a2ca-6ea70c5bde6d"
      },
      "source": [
        "# preview MT data\n",
        "df_NYT_Covid_19_Montana_20201127.tail()"
      ],
      "execution_count": 28,
      "outputs": [
        {
          "output_type": "execute_result",
          "data": {
            "text/html": [
              "<div>\n",
              "<style scoped>\n",
              "    .dataframe tbody tr th:only-of-type {\n",
              "        vertical-align: middle;\n",
              "    }\n",
              "\n",
              "    .dataframe tbody tr th {\n",
              "        vertical-align: top;\n",
              "    }\n",
              "\n",
              "    .dataframe thead th {\n",
              "        text-align: right;\n",
              "    }\n",
              "</style>\n",
              "<table border=\"1\" class=\"dataframe\">\n",
              "  <thead>\n",
              "    <tr style=\"text-align: right;\">\n",
              "      <th></th>\n",
              "      <th>date</th>\n",
              "      <th>state</th>\n",
              "      <th>fips</th>\n",
              "      <th>cases</th>\n",
              "      <th>deaths</th>\n",
              "    </tr>\n",
              "  </thead>\n",
              "  <tbody>\n",
              "    <tr>\n",
              "      <th>14836</th>\n",
              "      <td>2020-11-27</td>\n",
              "      <td>Montana</td>\n",
              "      <td>30</td>\n",
              "      <td>59796</td>\n",
              "      <td>658</td>\n",
              "    </tr>\n",
              "    <tr>\n",
              "      <th>14891</th>\n",
              "      <td>2020-11-28</td>\n",
              "      <td>Montana</td>\n",
              "      <td>30</td>\n",
              "      <td>60845</td>\n",
              "      <td>670</td>\n",
              "    </tr>\n",
              "    <tr>\n",
              "      <th>14946</th>\n",
              "      <td>2020-11-29</td>\n",
              "      <td>Montana</td>\n",
              "      <td>30</td>\n",
              "      <td>61801</td>\n",
              "      <td>672</td>\n",
              "    </tr>\n",
              "    <tr>\n",
              "      <th>15001</th>\n",
              "      <td>2020-11-30</td>\n",
              "      <td>Montana</td>\n",
              "      <td>30</td>\n",
              "      <td>62256</td>\n",
              "      <td>684</td>\n",
              "    </tr>\n",
              "    <tr>\n",
              "      <th>15056</th>\n",
              "      <td>2020-12-01</td>\n",
              "      <td>Montana</td>\n",
              "      <td>30</td>\n",
              "      <td>63324</td>\n",
              "      <td>700</td>\n",
              "    </tr>\n",
              "  </tbody>\n",
              "</table>\n",
              "</div>"
            ],
            "text/plain": [
              "             date    state  fips  cases  deaths\n",
              "14836  2020-11-27  Montana    30  59796     658\n",
              "14891  2020-11-28  Montana    30  60845     670\n",
              "14946  2020-11-29  Montana    30  61801     672\n",
              "15001  2020-11-30  Montana    30  62256     684\n",
              "15056  2020-12-01  Montana    30  63324     700"
            ]
          },
          "metadata": {
            "tags": []
          },
          "execution_count": 28
        }
      ]
    },
    {
      "cell_type": "markdown",
      "metadata": {
        "id": "-59BtT7r55wW"
      },
      "source": [
        "# Merging and editing dataframes"
      ]
    },
    {
      "cell_type": "code",
      "metadata": {
        "id": "GpGItPZsIauI"
      },
      "source": [
        "df_new_index_MT = df_NYT_Covid_19_Montana_20201127.set_index('date')"
      ],
      "execution_count": 29,
      "outputs": []
    },
    {
      "cell_type": "code",
      "metadata": {
        "id": "fTTsJi4XvzKr"
      },
      "source": [
        "df_new_index_MD = df_NYT_Covid_19_Maryland_20201127.set_index('date')"
      ],
      "execution_count": 33,
      "outputs": []
    },
    {
      "cell_type": "code",
      "metadata": {
        "colab": {
          "base_uri": "https://localhost:8080/",
          "height": 203
        },
        "id": "qPE7iZjbubel",
        "outputId": "54ec56b4-ddd6-49b4-8277-4e2cbfeccaa4"
      },
      "source": [
        "df_daily_case_death_MT = df_new_index_MT[{'cases', 'deaths'}].diff()\n",
        "df_daily_case_death_MT.tail()\n",
        "# Merge MT data\n",
        "df_MT_daily_cumulative_merge = pd.merge(df_NYT_Covid_19_Montana_20201127,\n",
        "                                 df_daily_case_death_MT,\n",
        "                                 how = \"right\",\n",
        "                                 on = \"date\")\n",
        "df_MT_daily_cumulative_merge.head()\n",
        "# Rename columns\n",
        "df_MT_daily_cumulative_merge = df_MT_daily_cumulative_merge.rename(columns={\"state\" : \"state_MT\",\n",
        "                                \"fips\": \"fips_MT\",\n",
        "                               \"cases_x\": \"cases_MT\",\n",
        "                               \"deaths_x\": \"deaths_MT\",\n",
        "                               \"cases_y\": \"daily cases_MT\",\n",
        "                               \"deaths_y\": \"daily deaths_MT\"})\n",
        "df_MT_daily_cumulative_merge.head()"
      ],
      "execution_count": 133,
      "outputs": [
        {
          "output_type": "execute_result",
          "data": {
            "text/html": [
              "<div>\n",
              "<style scoped>\n",
              "    .dataframe tbody tr th:only-of-type {\n",
              "        vertical-align: middle;\n",
              "    }\n",
              "\n",
              "    .dataframe tbody tr th {\n",
              "        vertical-align: top;\n",
              "    }\n",
              "\n",
              "    .dataframe thead th {\n",
              "        text-align: right;\n",
              "    }\n",
              "</style>\n",
              "<table border=\"1\" class=\"dataframe\">\n",
              "  <thead>\n",
              "    <tr style=\"text-align: right;\">\n",
              "      <th></th>\n",
              "      <th>date</th>\n",
              "      <th>state_MT</th>\n",
              "      <th>fips_MT</th>\n",
              "      <th>cases_MT</th>\n",
              "      <th>deaths_MT</th>\n",
              "      <th>daily cases_MT</th>\n",
              "      <th>daily deaths_MT</th>\n",
              "    </tr>\n",
              "  </thead>\n",
              "  <tbody>\n",
              "    <tr>\n",
              "      <th>0</th>\n",
              "      <td>2020-03-13</td>\n",
              "      <td>Montana</td>\n",
              "      <td>30</td>\n",
              "      <td>4</td>\n",
              "      <td>0</td>\n",
              "      <td>NaN</td>\n",
              "      <td>NaN</td>\n",
              "    </tr>\n",
              "    <tr>\n",
              "      <th>1</th>\n",
              "      <td>2020-03-14</td>\n",
              "      <td>Montana</td>\n",
              "      <td>30</td>\n",
              "      <td>6</td>\n",
              "      <td>0</td>\n",
              "      <td>2.0</td>\n",
              "      <td>0.0</td>\n",
              "    </tr>\n",
              "    <tr>\n",
              "      <th>2</th>\n",
              "      <td>2020-03-15</td>\n",
              "      <td>Montana</td>\n",
              "      <td>30</td>\n",
              "      <td>6</td>\n",
              "      <td>0</td>\n",
              "      <td>0.0</td>\n",
              "      <td>0.0</td>\n",
              "    </tr>\n",
              "    <tr>\n",
              "      <th>3</th>\n",
              "      <td>2020-03-16</td>\n",
              "      <td>Montana</td>\n",
              "      <td>30</td>\n",
              "      <td>8</td>\n",
              "      <td>0</td>\n",
              "      <td>2.0</td>\n",
              "      <td>0.0</td>\n",
              "    </tr>\n",
              "    <tr>\n",
              "      <th>4</th>\n",
              "      <td>2020-03-17</td>\n",
              "      <td>Montana</td>\n",
              "      <td>30</td>\n",
              "      <td>8</td>\n",
              "      <td>0</td>\n",
              "      <td>0.0</td>\n",
              "      <td>0.0</td>\n",
              "    </tr>\n",
              "  </tbody>\n",
              "</table>\n",
              "</div>"
            ],
            "text/plain": [
              "         date state_MT  fips_MT  ...  deaths_MT  daily cases_MT  daily deaths_MT\n",
              "0  2020-03-13  Montana       30  ...          0             NaN              NaN\n",
              "1  2020-03-14  Montana       30  ...          0             2.0              0.0\n",
              "2  2020-03-15  Montana       30  ...          0             0.0              0.0\n",
              "3  2020-03-16  Montana       30  ...          0             2.0              0.0\n",
              "4  2020-03-17  Montana       30  ...          0             0.0              0.0\n",
              "\n",
              "[5 rows x 7 columns]"
            ]
          },
          "metadata": {
            "tags": []
          },
          "execution_count": 133
        }
      ]
    },
    {
      "cell_type": "code",
      "metadata": {
        "colab": {
          "base_uri": "https://localhost:8080/",
          "height": 233
        },
        "id": "IO3nP60mwAXj",
        "outputId": "556b7f8f-907a-4346-b653-a0e46a2db0e1"
      },
      "source": [
        "df_daily_case_death_MD = df_new_index_MD[{'cases', 'deaths'}].diff()\n",
        "df_daily_case_death_MD.tail()"
      ],
      "execution_count": 35,
      "outputs": [
        {
          "output_type": "execute_result",
          "data": {
            "text/html": [
              "<div>\n",
              "<style scoped>\n",
              "    .dataframe tbody tr th:only-of-type {\n",
              "        vertical-align: middle;\n",
              "    }\n",
              "\n",
              "    .dataframe tbody tr th {\n",
              "        vertical-align: top;\n",
              "    }\n",
              "\n",
              "    .dataframe thead th {\n",
              "        text-align: right;\n",
              "    }\n",
              "</style>\n",
              "<table border=\"1\" class=\"dataframe\">\n",
              "  <thead>\n",
              "    <tr style=\"text-align: right;\">\n",
              "      <th></th>\n",
              "      <th>cases</th>\n",
              "      <th>deaths</th>\n",
              "    </tr>\n",
              "    <tr>\n",
              "      <th>date</th>\n",
              "      <th></th>\n",
              "      <th></th>\n",
              "    </tr>\n",
              "  </thead>\n",
              "  <tbody>\n",
              "    <tr>\n",
              "      <th>2020-11-27</th>\n",
              "      <td>2570.0</td>\n",
              "      <td>22.0</td>\n",
              "    </tr>\n",
              "    <tr>\n",
              "      <th>2020-11-28</th>\n",
              "      <td>1398.0</td>\n",
              "      <td>33.0</td>\n",
              "    </tr>\n",
              "    <tr>\n",
              "      <th>2020-11-29</th>\n",
              "      <td>2124.0</td>\n",
              "      <td>23.0</td>\n",
              "    </tr>\n",
              "    <tr>\n",
              "      <th>2020-11-30</th>\n",
              "      <td>1983.0</td>\n",
              "      <td>16.0</td>\n",
              "    </tr>\n",
              "    <tr>\n",
              "      <th>2020-12-01</th>\n",
              "      <td>2769.0</td>\n",
              "      <td>32.0</td>\n",
              "    </tr>\n",
              "  </tbody>\n",
              "</table>\n",
              "</div>"
            ],
            "text/plain": [
              "             cases  deaths\n",
              "date                      \n",
              "2020-11-27  2570.0    22.0\n",
              "2020-11-28  1398.0    33.0\n",
              "2020-11-29  2124.0    23.0\n",
              "2020-11-30  1983.0    16.0\n",
              "2020-12-01  2769.0    32.0"
            ]
          },
          "metadata": {
            "tags": []
          },
          "execution_count": 35
        }
      ]
    },
    {
      "cell_type": "code",
      "metadata": {
        "colab": {
          "base_uri": "https://localhost:8080/",
          "height": 203
        },
        "id": "ANwHfpeN-Vb4",
        "outputId": "802c0ce3-471a-406f-9fe1-751a07437d93"
      },
      "source": [
        "# Merge Maryland dataframes\n",
        "df_MD_HHS_state_merge = pd.merge(df_NYT_Covid_19_Maryland_20201127,\n",
        "                                 df_daily_case_death_MD,\n",
        "                                 how = \"right\",\n",
        "                                 on = \"date\")\n",
        "# Preview merged dataframe \n",
        "df_MD_HHS_state_merge.head()"
      ],
      "execution_count": 53,
      "outputs": [
        {
          "output_type": "execute_result",
          "data": {
            "text/html": [
              "<div>\n",
              "<style scoped>\n",
              "    .dataframe tbody tr th:only-of-type {\n",
              "        vertical-align: middle;\n",
              "    }\n",
              "\n",
              "    .dataframe tbody tr th {\n",
              "        vertical-align: top;\n",
              "    }\n",
              "\n",
              "    .dataframe thead th {\n",
              "        text-align: right;\n",
              "    }\n",
              "</style>\n",
              "<table border=\"1\" class=\"dataframe\">\n",
              "  <thead>\n",
              "    <tr style=\"text-align: right;\">\n",
              "      <th></th>\n",
              "      <th>date</th>\n",
              "      <th>state</th>\n",
              "      <th>fips</th>\n",
              "      <th>cases_x</th>\n",
              "      <th>deaths_x</th>\n",
              "      <th>cases_y</th>\n",
              "      <th>deaths_y</th>\n",
              "    </tr>\n",
              "  </thead>\n",
              "  <tbody>\n",
              "    <tr>\n",
              "      <th>0</th>\n",
              "      <td>2020-03-05</td>\n",
              "      <td>Maryland</td>\n",
              "      <td>24</td>\n",
              "      <td>3</td>\n",
              "      <td>0</td>\n",
              "      <td>NaN</td>\n",
              "      <td>NaN</td>\n",
              "    </tr>\n",
              "    <tr>\n",
              "      <th>1</th>\n",
              "      <td>2020-03-06</td>\n",
              "      <td>Maryland</td>\n",
              "      <td>24</td>\n",
              "      <td>3</td>\n",
              "      <td>0</td>\n",
              "      <td>0.0</td>\n",
              "      <td>0.0</td>\n",
              "    </tr>\n",
              "    <tr>\n",
              "      <th>2</th>\n",
              "      <td>2020-03-07</td>\n",
              "      <td>Maryland</td>\n",
              "      <td>24</td>\n",
              "      <td>3</td>\n",
              "      <td>0</td>\n",
              "      <td>0.0</td>\n",
              "      <td>0.0</td>\n",
              "    </tr>\n",
              "    <tr>\n",
              "      <th>3</th>\n",
              "      <td>2020-03-08</td>\n",
              "      <td>Maryland</td>\n",
              "      <td>24</td>\n",
              "      <td>5</td>\n",
              "      <td>0</td>\n",
              "      <td>2.0</td>\n",
              "      <td>0.0</td>\n",
              "    </tr>\n",
              "    <tr>\n",
              "      <th>4</th>\n",
              "      <td>2020-03-09</td>\n",
              "      <td>Maryland</td>\n",
              "      <td>24</td>\n",
              "      <td>6</td>\n",
              "      <td>0</td>\n",
              "      <td>1.0</td>\n",
              "      <td>0.0</td>\n",
              "    </tr>\n",
              "  </tbody>\n",
              "</table>\n",
              "</div>"
            ],
            "text/plain": [
              "         date     state  fips  cases_x  deaths_x  cases_y  deaths_y\n",
              "0  2020-03-05  Maryland    24        3         0      NaN       NaN\n",
              "1  2020-03-06  Maryland    24        3         0      0.0       0.0\n",
              "2  2020-03-07  Maryland    24        3         0      0.0       0.0\n",
              "3  2020-03-08  Maryland    24        5         0      2.0       0.0\n",
              "4  2020-03-09  Maryland    24        6         0      1.0       0.0"
            ]
          },
          "metadata": {
            "tags": []
          },
          "execution_count": 53
        }
      ]
    },
    {
      "cell_type": "code",
      "metadata": {
        "colab": {
          "base_uri": "https://localhost:8080/",
          "height": 203
        },
        "id": "AMXFj-8gCx6R",
        "outputId": "548d17e8-6617-47e8-e32a-20ce5b19b1a5"
      },
      "source": [
        "# Rename columns of data frame\n",
        "df_MD_HHS_state_merge = df_MD_HHS_state_merge.rename(columns={\"state\" : \"state_MD\",\n",
        "                                \"fips\": \"fips_MD\",\n",
        "                               \"cases_x\": \"cases_MD\",\n",
        "                               \"deaths_x\": \"deaths_MD\",\n",
        "                               \"cases_y\": \"daily cases_MD\",\n",
        "                               \"deaths_y\": \"daily deaths_MD\"})\n",
        "# Preview renamed data\n",
        "df_MD_HHS_state_merge.tail()"
      ],
      "execution_count": 55,
      "outputs": [
        {
          "output_type": "execute_result",
          "data": {
            "text/html": [
              "<div>\n",
              "<style scoped>\n",
              "    .dataframe tbody tr th:only-of-type {\n",
              "        vertical-align: middle;\n",
              "    }\n",
              "\n",
              "    .dataframe tbody tr th {\n",
              "        vertical-align: top;\n",
              "    }\n",
              "\n",
              "    .dataframe thead th {\n",
              "        text-align: right;\n",
              "    }\n",
              "</style>\n",
              "<table border=\"1\" class=\"dataframe\">\n",
              "  <thead>\n",
              "    <tr style=\"text-align: right;\">\n",
              "      <th></th>\n",
              "      <th>date</th>\n",
              "      <th>state_MD</th>\n",
              "      <th>fips_MD</th>\n",
              "      <th>cases_MD</th>\n",
              "      <th>deaths_MD</th>\n",
              "      <th>daily cases_MD</th>\n",
              "      <th>daily deaths_MD</th>\n",
              "    </tr>\n",
              "  </thead>\n",
              "  <tbody>\n",
              "    <tr>\n",
              "      <th>267</th>\n",
              "      <td>2020-11-27</td>\n",
              "      <td>Maryland</td>\n",
              "      <td>24</td>\n",
              "      <td>193205</td>\n",
              "      <td>4569</td>\n",
              "      <td>2570.0</td>\n",
              "      <td>22.0</td>\n",
              "    </tr>\n",
              "    <tr>\n",
              "      <th>268</th>\n",
              "      <td>2020-11-28</td>\n",
              "      <td>Maryland</td>\n",
              "      <td>24</td>\n",
              "      <td>194603</td>\n",
              "      <td>4602</td>\n",
              "      <td>1398.0</td>\n",
              "      <td>33.0</td>\n",
              "    </tr>\n",
              "    <tr>\n",
              "      <th>269</th>\n",
              "      <td>2020-11-29</td>\n",
              "      <td>Maryland</td>\n",
              "      <td>24</td>\n",
              "      <td>196727</td>\n",
              "      <td>4625</td>\n",
              "      <td>2124.0</td>\n",
              "      <td>23.0</td>\n",
              "    </tr>\n",
              "    <tr>\n",
              "      <th>270</th>\n",
              "      <td>2020-11-30</td>\n",
              "      <td>Maryland</td>\n",
              "      <td>24</td>\n",
              "      <td>198710</td>\n",
              "      <td>4641</td>\n",
              "      <td>1983.0</td>\n",
              "      <td>16.0</td>\n",
              "    </tr>\n",
              "    <tr>\n",
              "      <th>271</th>\n",
              "      <td>2020-12-01</td>\n",
              "      <td>Maryland</td>\n",
              "      <td>24</td>\n",
              "      <td>201479</td>\n",
              "      <td>4673</td>\n",
              "      <td>2769.0</td>\n",
              "      <td>32.0</td>\n",
              "    </tr>\n",
              "  </tbody>\n",
              "</table>\n",
              "</div>"
            ],
            "text/plain": [
              "           date  state_MD  fips_MD  ...  deaths_MD  daily cases_MD  daily deaths_MD\n",
              "267  2020-11-27  Maryland       24  ...       4569          2570.0             22.0\n",
              "268  2020-11-28  Maryland       24  ...       4602          1398.0             33.0\n",
              "269  2020-11-29  Maryland       24  ...       4625          2124.0             23.0\n",
              "270  2020-11-30  Maryland       24  ...       4641          1983.0             16.0\n",
              "271  2020-12-01  Maryland       24  ...       4673          2769.0             32.0\n",
              "\n",
              "[5 rows x 7 columns]"
            ]
          },
          "metadata": {
            "tags": []
          },
          "execution_count": 55
        }
      ]
    },
    {
      "cell_type": "code",
      "metadata": {
        "colab": {
          "base_uri": "https://localhost:8080/",
          "height": 203
        },
        "id": "W3E4KYkLsrbg",
        "outputId": "95731468-3119-4521-a59b-272bdc99ca3d"
      },
      "source": [
        "# Merge Maryland and filtered HHS data\n",
        "df_MD_HHS_filter_state_merge = pd.merge(df_MD_HHS_state_merge,\n",
        "                                 df_MD_HHS[{(\"date\"), (\"% pos. under 35 yrs\"), (\"% pos. over 35 yrs\"), (\"testingvolume\")}],\n",
        "                                 how = \"right\",\n",
        "                                 on = \"date\")\n",
        "df_MD_HHS_filter_state_merge.head()"
      ],
      "execution_count": 130,
      "outputs": [
        {
          "output_type": "execute_result",
          "data": {
            "text/html": [
              "<div>\n",
              "<style scoped>\n",
              "    .dataframe tbody tr th:only-of-type {\n",
              "        vertical-align: middle;\n",
              "    }\n",
              "\n",
              "    .dataframe tbody tr th {\n",
              "        vertical-align: top;\n",
              "    }\n",
              "\n",
              "    .dataframe thead th {\n",
              "        text-align: right;\n",
              "    }\n",
              "</style>\n",
              "<table border=\"1\" class=\"dataframe\">\n",
              "  <thead>\n",
              "    <tr style=\"text-align: right;\">\n",
              "      <th></th>\n",
              "      <th>date</th>\n",
              "      <th>state_MD</th>\n",
              "      <th>fips_MD</th>\n",
              "      <th>cases_MD</th>\n",
              "      <th>deaths_MD</th>\n",
              "      <th>daily cases_MD</th>\n",
              "      <th>daily deaths_MD</th>\n",
              "      <th>% pos. under 35 yrs</th>\n",
              "      <th>testingvolume</th>\n",
              "      <th>% pos. over 35 yrs</th>\n",
              "    </tr>\n",
              "  </thead>\n",
              "  <tbody>\n",
              "    <tr>\n",
              "      <th>0</th>\n",
              "      <td>2020-03-23</td>\n",
              "      <td>Maryland</td>\n",
              "      <td>24</td>\n",
              "      <td>290</td>\n",
              "      <td>3</td>\n",
              "      <td>45.0</td>\n",
              "      <td>0.0</td>\n",
              "      <td>NaN</td>\n",
              "      <td>955</td>\n",
              "      <td>NaN</td>\n",
              "    </tr>\n",
              "    <tr>\n",
              "      <th>1</th>\n",
              "      <td>2020-03-24</td>\n",
              "      <td>Maryland</td>\n",
              "      <td>24</td>\n",
              "      <td>349</td>\n",
              "      <td>4</td>\n",
              "      <td>59.0</td>\n",
              "      <td>1.0</td>\n",
              "      <td>NaN</td>\n",
              "      <td>1120</td>\n",
              "      <td>NaN</td>\n",
              "    </tr>\n",
              "    <tr>\n",
              "      <th>2</th>\n",
              "      <td>2020-03-25</td>\n",
              "      <td>Maryland</td>\n",
              "      <td>24</td>\n",
              "      <td>423</td>\n",
              "      <td>4</td>\n",
              "      <td>74.0</td>\n",
              "      <td>0.0</td>\n",
              "      <td>NaN</td>\n",
              "      <td>3340</td>\n",
              "      <td>NaN</td>\n",
              "    </tr>\n",
              "    <tr>\n",
              "      <th>3</th>\n",
              "      <td>2020-03-26</td>\n",
              "      <td>Maryland</td>\n",
              "      <td>24</td>\n",
              "      <td>581</td>\n",
              "      <td>4</td>\n",
              "      <td>158.0</td>\n",
              "      <td>0.0</td>\n",
              "      <td>NaN</td>\n",
              "      <td>1820</td>\n",
              "      <td>NaN</td>\n",
              "    </tr>\n",
              "    <tr>\n",
              "      <th>4</th>\n",
              "      <td>2020-03-27</td>\n",
              "      <td>Maryland</td>\n",
              "      <td>24</td>\n",
              "      <td>790</td>\n",
              "      <td>5</td>\n",
              "      <td>209.0</td>\n",
              "      <td>1.0</td>\n",
              "      <td>NaN</td>\n",
              "      <td>3075</td>\n",
              "      <td>NaN</td>\n",
              "    </tr>\n",
              "  </tbody>\n",
              "</table>\n",
              "</div>"
            ],
            "text/plain": [
              "         date  state_MD  ...  testingvolume  % pos. over 35 yrs\n",
              "0  2020-03-23  Maryland  ...            955                 NaN\n",
              "1  2020-03-24  Maryland  ...           1120                 NaN\n",
              "2  2020-03-25  Maryland  ...           3340                 NaN\n",
              "3  2020-03-26  Maryland  ...           1820                 NaN\n",
              "4  2020-03-27  Maryland  ...           3075                 NaN\n",
              "\n",
              "[5 rows x 10 columns]"
            ]
          },
          "metadata": {
            "tags": []
          },
          "execution_count": 130
        }
      ]
    },
    {
      "cell_type": "code",
      "metadata": {
        "colab": {
          "base_uri": "https://localhost:8080/",
          "height": 306
        },
        "id": "9uPKqkCr3yDZ",
        "outputId": "0c329b32-a4ff-4fbd-9e46-ebc901d79db8"
      },
      "source": [
        "# Full merge of Maryland and Montana Data Frames\n",
        "df_MD_MT_grand_state_merge = pd.merge(df_MD_HHS_filter_state_merge,\n",
        "                                 df_MT_daily_cumulative_merge,\n",
        "                                 how = \"left\",\n",
        "                                 on = \"date\")\n",
        "# Preview data\n",
        "df_MD_MT_grand_state_merge.head()"
      ],
      "execution_count": 135,
      "outputs": [
        {
          "output_type": "execute_result",
          "data": {
            "text/html": [
              "<div>\n",
              "<style scoped>\n",
              "    .dataframe tbody tr th:only-of-type {\n",
              "        vertical-align: middle;\n",
              "    }\n",
              "\n",
              "    .dataframe tbody tr th {\n",
              "        vertical-align: top;\n",
              "    }\n",
              "\n",
              "    .dataframe thead th {\n",
              "        text-align: right;\n",
              "    }\n",
              "</style>\n",
              "<table border=\"1\" class=\"dataframe\">\n",
              "  <thead>\n",
              "    <tr style=\"text-align: right;\">\n",
              "      <th></th>\n",
              "      <th>date</th>\n",
              "      <th>state_MD</th>\n",
              "      <th>fips_MD</th>\n",
              "      <th>cases_MD</th>\n",
              "      <th>deaths_MD</th>\n",
              "      <th>daily cases_MD</th>\n",
              "      <th>daily deaths_MD</th>\n",
              "      <th>% pos. under 35 yrs</th>\n",
              "      <th>testingvolume</th>\n",
              "      <th>% pos. over 35 yrs</th>\n",
              "      <th>state_MT</th>\n",
              "      <th>fips_MT</th>\n",
              "      <th>cases_MT</th>\n",
              "      <th>deaths_MT</th>\n",
              "      <th>daily cases_MT</th>\n",
              "      <th>daily deaths_MT</th>\n",
              "    </tr>\n",
              "  </thead>\n",
              "  <tbody>\n",
              "    <tr>\n",
              "      <th>0</th>\n",
              "      <td>2020-03-23</td>\n",
              "      <td>Maryland</td>\n",
              "      <td>24</td>\n",
              "      <td>290</td>\n",
              "      <td>3</td>\n",
              "      <td>45.0</td>\n",
              "      <td>0.0</td>\n",
              "      <td>NaN</td>\n",
              "      <td>955</td>\n",
              "      <td>NaN</td>\n",
              "      <td>Montana</td>\n",
              "      <td>30</td>\n",
              "      <td>45</td>\n",
              "      <td>0</td>\n",
              "      <td>11.0</td>\n",
              "      <td>0.0</td>\n",
              "    </tr>\n",
              "    <tr>\n",
              "      <th>1</th>\n",
              "      <td>2020-03-24</td>\n",
              "      <td>Maryland</td>\n",
              "      <td>24</td>\n",
              "      <td>349</td>\n",
              "      <td>4</td>\n",
              "      <td>59.0</td>\n",
              "      <td>1.0</td>\n",
              "      <td>NaN</td>\n",
              "      <td>1120</td>\n",
              "      <td>NaN</td>\n",
              "      <td>Montana</td>\n",
              "      <td>30</td>\n",
              "      <td>51</td>\n",
              "      <td>0</td>\n",
              "      <td>6.0</td>\n",
              "      <td>0.0</td>\n",
              "    </tr>\n",
              "    <tr>\n",
              "      <th>2</th>\n",
              "      <td>2020-03-25</td>\n",
              "      <td>Maryland</td>\n",
              "      <td>24</td>\n",
              "      <td>423</td>\n",
              "      <td>4</td>\n",
              "      <td>74.0</td>\n",
              "      <td>0.0</td>\n",
              "      <td>NaN</td>\n",
              "      <td>3340</td>\n",
              "      <td>NaN</td>\n",
              "      <td>Montana</td>\n",
              "      <td>30</td>\n",
              "      <td>65</td>\n",
              "      <td>0</td>\n",
              "      <td>14.0</td>\n",
              "      <td>0.0</td>\n",
              "    </tr>\n",
              "    <tr>\n",
              "      <th>3</th>\n",
              "      <td>2020-03-26</td>\n",
              "      <td>Maryland</td>\n",
              "      <td>24</td>\n",
              "      <td>581</td>\n",
              "      <td>4</td>\n",
              "      <td>158.0</td>\n",
              "      <td>0.0</td>\n",
              "      <td>NaN</td>\n",
              "      <td>1820</td>\n",
              "      <td>NaN</td>\n",
              "      <td>Montana</td>\n",
              "      <td>30</td>\n",
              "      <td>90</td>\n",
              "      <td>0</td>\n",
              "      <td>25.0</td>\n",
              "      <td>0.0</td>\n",
              "    </tr>\n",
              "    <tr>\n",
              "      <th>4</th>\n",
              "      <td>2020-03-27</td>\n",
              "      <td>Maryland</td>\n",
              "      <td>24</td>\n",
              "      <td>790</td>\n",
              "      <td>5</td>\n",
              "      <td>209.0</td>\n",
              "      <td>1.0</td>\n",
              "      <td>NaN</td>\n",
              "      <td>3075</td>\n",
              "      <td>NaN</td>\n",
              "      <td>Montana</td>\n",
              "      <td>30</td>\n",
              "      <td>121</td>\n",
              "      <td>1</td>\n",
              "      <td>31.0</td>\n",
              "      <td>1.0</td>\n",
              "    </tr>\n",
              "  </tbody>\n",
              "</table>\n",
              "</div>"
            ],
            "text/plain": [
              "         date  state_MD  fips_MD  ...  deaths_MT  daily cases_MT  daily deaths_MT\n",
              "0  2020-03-23  Maryland       24  ...          0            11.0              0.0\n",
              "1  2020-03-24  Maryland       24  ...          0             6.0              0.0\n",
              "2  2020-03-25  Maryland       24  ...          0            14.0              0.0\n",
              "3  2020-03-26  Maryland       24  ...          0            25.0              0.0\n",
              "4  2020-03-27  Maryland       24  ...          1            31.0              1.0\n",
              "\n",
              "[5 rows x 16 columns]"
            ]
          },
          "metadata": {
            "tags": []
          },
          "execution_count": 135
        }
      ]
    },
    {
      "cell_type": "code",
      "metadata": {
        "colab": {
          "base_uri": "https://localhost:8080/",
          "height": 306
        },
        "id": "XEgRVg4O5CGY",
        "outputId": "327cabed-df54-42c0-a50c-f768b115f6a2"
      },
      "source": [
        "# Select specific time frame from Maryland data set e.g. last 30 days\n",
        "df_MD_MT_grand_state_merge_30days = df_MD_MT_grand_state_merge.tail(30)\n",
        "#Preview data\n",
        "df_MD_MT_grand_state_merge_30days.head()"
      ],
      "execution_count": 136,
      "outputs": [
        {
          "output_type": "execute_result",
          "data": {
            "text/html": [
              "<div>\n",
              "<style scoped>\n",
              "    .dataframe tbody tr th:only-of-type {\n",
              "        vertical-align: middle;\n",
              "    }\n",
              "\n",
              "    .dataframe tbody tr th {\n",
              "        vertical-align: top;\n",
              "    }\n",
              "\n",
              "    .dataframe thead th {\n",
              "        text-align: right;\n",
              "    }\n",
              "</style>\n",
              "<table border=\"1\" class=\"dataframe\">\n",
              "  <thead>\n",
              "    <tr style=\"text-align: right;\">\n",
              "      <th></th>\n",
              "      <th>date</th>\n",
              "      <th>state_MD</th>\n",
              "      <th>fips_MD</th>\n",
              "      <th>cases_MD</th>\n",
              "      <th>deaths_MD</th>\n",
              "      <th>daily cases_MD</th>\n",
              "      <th>daily deaths_MD</th>\n",
              "      <th>% pos. under 35 yrs</th>\n",
              "      <th>testingvolume</th>\n",
              "      <th>% pos. over 35 yrs</th>\n",
              "      <th>state_MT</th>\n",
              "      <th>fips_MT</th>\n",
              "      <th>cases_MT</th>\n",
              "      <th>deaths_MT</th>\n",
              "      <th>daily cases_MT</th>\n",
              "      <th>daily deaths_MT</th>\n",
              "    </tr>\n",
              "  </thead>\n",
              "  <tbody>\n",
              "    <tr>\n",
              "      <th>223</th>\n",
              "      <td>2020-11-01</td>\n",
              "      <td>Maryland</td>\n",
              "      <td>24</td>\n",
              "      <td>146627</td>\n",
              "      <td>4152</td>\n",
              "      <td>1034.0</td>\n",
              "      <td>5.0</td>\n",
              "      <td>4.49</td>\n",
              "      <td>26814</td>\n",
              "      <td>3.64</td>\n",
              "      <td>Montana</td>\n",
              "      <td>30</td>\n",
              "      <td>33495</td>\n",
              "      <td>378</td>\n",
              "      <td>694.0</td>\n",
              "      <td>1.0</td>\n",
              "    </tr>\n",
              "    <tr>\n",
              "      <th>224</th>\n",
              "      <td>2020-11-02</td>\n",
              "      <td>Maryland</td>\n",
              "      <td>24</td>\n",
              "      <td>147477</td>\n",
              "      <td>4155</td>\n",
              "      <td>850.0</td>\n",
              "      <td>3.0</td>\n",
              "      <td>4.47</td>\n",
              "      <td>19886</td>\n",
              "      <td>3.64</td>\n",
              "      <td>Montana</td>\n",
              "      <td>30</td>\n",
              "      <td>34317</td>\n",
              "      <td>387</td>\n",
              "      <td>822.0</td>\n",
              "      <td>9.0</td>\n",
              "    </tr>\n",
              "    <tr>\n",
              "      <th>225</th>\n",
              "      <td>2020-11-03</td>\n",
              "      <td>Maryland</td>\n",
              "      <td>24</td>\n",
              "      <td>148249</td>\n",
              "      <td>4162</td>\n",
              "      <td>772.0</td>\n",
              "      <td>7.0</td>\n",
              "      <td>4.68</td>\n",
              "      <td>25270</td>\n",
              "      <td>3.78</td>\n",
              "      <td>Montana</td>\n",
              "      <td>30</td>\n",
              "      <td>35222</td>\n",
              "      <td>400</td>\n",
              "      <td>905.0</td>\n",
              "      <td>13.0</td>\n",
              "    </tr>\n",
              "    <tr>\n",
              "      <th>226</th>\n",
              "      <td>2020-11-04</td>\n",
              "      <td>Maryland</td>\n",
              "      <td>24</td>\n",
              "      <td>149232</td>\n",
              "      <td>4172</td>\n",
              "      <td>983.0</td>\n",
              "      <td>10.0</td>\n",
              "      <td>4.81</td>\n",
              "      <td>27944</td>\n",
              "      <td>3.87</td>\n",
              "      <td>Montana</td>\n",
              "      <td>30</td>\n",
              "      <td>36012</td>\n",
              "      <td>404</td>\n",
              "      <td>790.0</td>\n",
              "      <td>4.0</td>\n",
              "    </tr>\n",
              "    <tr>\n",
              "      <th>227</th>\n",
              "      <td>2020-11-05</td>\n",
              "      <td>Maryland</td>\n",
              "      <td>24</td>\n",
              "      <td>150424</td>\n",
              "      <td>4182</td>\n",
              "      <td>1192.0</td>\n",
              "      <td>10.0</td>\n",
              "      <td>5.07</td>\n",
              "      <td>35378</td>\n",
              "      <td>3.99</td>\n",
              "      <td>Montana</td>\n",
              "      <td>30</td>\n",
              "      <td>37024</td>\n",
              "      <td>409</td>\n",
              "      <td>1012.0</td>\n",
              "      <td>5.0</td>\n",
              "    </tr>\n",
              "  </tbody>\n",
              "</table>\n",
              "</div>"
            ],
            "text/plain": [
              "           date  state_MD  fips_MD  ...  deaths_MT  daily cases_MT  daily deaths_MT\n",
              "223  2020-11-01  Maryland       24  ...        378           694.0              1.0\n",
              "224  2020-11-02  Maryland       24  ...        387           822.0              9.0\n",
              "225  2020-11-03  Maryland       24  ...        400           905.0             13.0\n",
              "226  2020-11-04  Maryland       24  ...        404           790.0              4.0\n",
              "227  2020-11-05  Maryland       24  ...        409          1012.0              5.0\n",
              "\n",
              "[5 rows x 16 columns]"
            ]
          },
          "metadata": {
            "tags": []
          },
          "execution_count": 136
        }
      ]
    },
    {
      "cell_type": "markdown",
      "metadata": {
        "id": "PgkJ2ffn6LbB"
      },
      "source": [
        "# Some test code"
      ]
    },
    {
      "cell_type": "code",
      "metadata": {
        "id": "9CCsDC6RuJFM"
      },
      "source": [
        "#Select specific time frame from Maryland data set e.g. last 30 days\n",
        "df_NYT_Covid_19_Maryland_20201127_30days = df_NYT_Covid_19_Maryland_20201127.tail(30)"
      ],
      "execution_count": 37,
      "outputs": []
    },
    {
      "cell_type": "code",
      "metadata": {
        "colab": {
          "base_uri": "https://localhost:8080/",
          "height": 203
        },
        "id": "yH6uhiTqxomR",
        "outputId": "268904b6-0481-4cfb-8a98-7dbd24f010bf"
      },
      "source": [
        "# preview last 30 days of data for MD\n",
        "df_NYT_Covid_19_Maryland_20201127_30days.head()"
      ],
      "execution_count": 38,
      "outputs": [
        {
          "output_type": "execute_result",
          "data": {
            "text/html": [
              "<div>\n",
              "<style scoped>\n",
              "    .dataframe tbody tr th:only-of-type {\n",
              "        vertical-align: middle;\n",
              "    }\n",
              "\n",
              "    .dataframe tbody tr th {\n",
              "        vertical-align: top;\n",
              "    }\n",
              "\n",
              "    .dataframe thead th {\n",
              "        text-align: right;\n",
              "    }\n",
              "</style>\n",
              "<table border=\"1\" class=\"dataframe\">\n",
              "  <thead>\n",
              "    <tr style=\"text-align: right;\">\n",
              "      <th></th>\n",
              "      <th>date</th>\n",
              "      <th>state</th>\n",
              "      <th>fips</th>\n",
              "      <th>cases</th>\n",
              "      <th>deaths</th>\n",
              "    </tr>\n",
              "  </thead>\n",
              "  <tbody>\n",
              "    <tr>\n",
              "      <th>13455</th>\n",
              "      <td>2020-11-02</td>\n",
              "      <td>Maryland</td>\n",
              "      <td>24</td>\n",
              "      <td>147477</td>\n",
              "      <td>4155</td>\n",
              "    </tr>\n",
              "    <tr>\n",
              "      <th>13510</th>\n",
              "      <td>2020-11-03</td>\n",
              "      <td>Maryland</td>\n",
              "      <td>24</td>\n",
              "      <td>148249</td>\n",
              "      <td>4162</td>\n",
              "    </tr>\n",
              "    <tr>\n",
              "      <th>13565</th>\n",
              "      <td>2020-11-04</td>\n",
              "      <td>Maryland</td>\n",
              "      <td>24</td>\n",
              "      <td>149232</td>\n",
              "      <td>4172</td>\n",
              "    </tr>\n",
              "    <tr>\n",
              "      <th>13620</th>\n",
              "      <td>2020-11-05</td>\n",
              "      <td>Maryland</td>\n",
              "      <td>24</td>\n",
              "      <td>150424</td>\n",
              "      <td>4182</td>\n",
              "    </tr>\n",
              "    <tr>\n",
              "      <th>13675</th>\n",
              "      <td>2020-11-06</td>\n",
              "      <td>Maryland</td>\n",
              "      <td>24</td>\n",
              "      <td>151964</td>\n",
              "      <td>4194</td>\n",
              "    </tr>\n",
              "  </tbody>\n",
              "</table>\n",
              "</div>"
            ],
            "text/plain": [
              "             date     state  fips   cases  deaths\n",
              "13455  2020-11-02  Maryland    24  147477    4155\n",
              "13510  2020-11-03  Maryland    24  148249    4162\n",
              "13565  2020-11-04  Maryland    24  149232    4172\n",
              "13620  2020-11-05  Maryland    24  150424    4182\n",
              "13675  2020-11-06  Maryland    24  151964    4194"
            ]
          },
          "metadata": {
            "tags": []
          },
          "execution_count": 38
        }
      ]
    },
    {
      "cell_type": "code",
      "metadata": {
        "id": "iMEQyFsZIxtm"
      },
      "source": [
        "#df_NYT_Covid_19_Maryland_20201127_November2020 = df_NYT_Covid_19_Maryland_20201127[df_NYT_Covid_19_Maryland_20201127.tail(30)"
      ],
      "execution_count": 137,
      "outputs": []
    },
    {
      "cell_type": "code",
      "metadata": {
        "id": "ZG7qogJjxw_I"
      },
      "source": [
        "#data frame with double filter e..g filter to only Maryland and to only ~ last month of data\n",
        "#df_NYT_Covid_19_Maryland_20201127_November2020 = df_NYT_Covid_19_states_20201127[(df_NYT_Covid_19_states_20201127[\"state\"] == \"Maryland\") & (df_NYT_Covid_19_states_20201127[\"date\"] == \"2020-11-01 to 2020-11-30\")]"
      ],
      "execution_count": 59,
      "outputs": []
    },
    {
      "cell_type": "code",
      "metadata": {
        "colab": {
          "base_uri": "https://localhost:8080/",
          "height": 49
        },
        "id": "4lxESIkw1BL6",
        "outputId": "3a49edbf-d38e-4f03-9c2d-cc569d54745d"
      },
      "source": [
        "# preview double filter data containing Maryland specific data and date specific data\n",
        "#df_NYT_Covid_19_Maryland_20201127_November2020.head()"
      ],
      "execution_count": 60,
      "outputs": [
        {
          "output_type": "execute_result",
          "data": {
            "text/html": [
              "<div>\n",
              "<style scoped>\n",
              "    .dataframe tbody tr th:only-of-type {\n",
              "        vertical-align: middle;\n",
              "    }\n",
              "\n",
              "    .dataframe tbody tr th {\n",
              "        vertical-align: top;\n",
              "    }\n",
              "\n",
              "    .dataframe thead th {\n",
              "        text-align: right;\n",
              "    }\n",
              "</style>\n",
              "<table border=\"1\" class=\"dataframe\">\n",
              "  <thead>\n",
              "    <tr style=\"text-align: right;\">\n",
              "      <th></th>\n",
              "      <th>date</th>\n",
              "      <th>state</th>\n",
              "      <th>fips</th>\n",
              "      <th>cases</th>\n",
              "      <th>deaths</th>\n",
              "    </tr>\n",
              "  </thead>\n",
              "  <tbody>\n",
              "  </tbody>\n",
              "</table>\n",
              "</div>"
            ],
            "text/plain": [
              "Empty DataFrame\n",
              "Columns: [date, state, fips, cases, deaths]\n",
              "Index: []"
            ]
          },
          "metadata": {
            "tags": []
          },
          "execution_count": 60
        }
      ]
    },
    {
      "cell_type": "markdown",
      "metadata": {
        "id": "GEB8D3L0iTxC"
      },
      "source": [
        "# Merging practice"
      ]
    },
    {
      "cell_type": "code",
      "metadata": {
        "id": "Gd5-_v8U2fLz"
      },
      "source": [
        "# Merging Maryland and Montana state level data, ONLY works under two conditions when use how = right and date and when use how = left and date\n",
        "# When use how = left and on = date the right side column lists number with decimal formatting. Left means merge data from right dataset onto left dataset\n",
        "# Have to use date because its the only column with same matching key AND same  data contained down the rows\n",
        "# Can do df_NYT_Covid_19-Montana_20201127[(\"desired column\"), (\"other desired column\")] to specify what data gets merged from right data set onto left data set\n",
        "df_MD_MT_merge = pd.merge(df_NYT_Covid_19_Maryland_20201127,\n",
        "                          df_NYT_Covid_19_Montana_20201127, \n",
        "                          how = \"right\",\n",
        "                          on = \"date\")"
      ],
      "execution_count": 20,
      "outputs": []
    },
    {
      "cell_type": "code",
      "metadata": {
        "colab": {
          "base_uri": "https://localhost:8080/",
          "height": 203
        },
        "id": "bQZtJIP3RqG5",
        "outputId": "67c7945c-242f-43d5-a252-7de2367ad193"
      },
      "source": [
        "# preview merged MD_MT data\n",
        "df_MD_MT_merge.tail(5)"
      ],
      "execution_count": 21,
      "outputs": [
        {
          "output_type": "execute_result",
          "data": {
            "text/html": [
              "<div>\n",
              "<style scoped>\n",
              "    .dataframe tbody tr th:only-of-type {\n",
              "        vertical-align: middle;\n",
              "    }\n",
              "\n",
              "    .dataframe tbody tr th {\n",
              "        vertical-align: top;\n",
              "    }\n",
              "\n",
              "    .dataframe thead th {\n",
              "        text-align: right;\n",
              "    }\n",
              "</style>\n",
              "<table border=\"1\" class=\"dataframe\">\n",
              "  <thead>\n",
              "    <tr style=\"text-align: right;\">\n",
              "      <th></th>\n",
              "      <th>date</th>\n",
              "      <th>state_x</th>\n",
              "      <th>fips_x</th>\n",
              "      <th>cases_x</th>\n",
              "      <th>deaths_x</th>\n",
              "      <th>state_y</th>\n",
              "      <th>fips_y</th>\n",
              "      <th>cases_y</th>\n",
              "      <th>deaths_y</th>\n",
              "    </tr>\n",
              "  </thead>\n",
              "  <tbody>\n",
              "    <tr>\n",
              "      <th>258</th>\n",
              "      <td>2020-11-26</td>\n",
              "      <td>Maryland</td>\n",
              "      <td>24</td>\n",
              "      <td>190635</td>\n",
              "      <td>4547</td>\n",
              "      <td>Montana</td>\n",
              "      <td>30</td>\n",
              "      <td>59682</td>\n",
              "      <td>658</td>\n",
              "    </tr>\n",
              "    <tr>\n",
              "      <th>259</th>\n",
              "      <td>2020-11-27</td>\n",
              "      <td>Maryland</td>\n",
              "      <td>24</td>\n",
              "      <td>193205</td>\n",
              "      <td>4569</td>\n",
              "      <td>Montana</td>\n",
              "      <td>30</td>\n",
              "      <td>59796</td>\n",
              "      <td>658</td>\n",
              "    </tr>\n",
              "    <tr>\n",
              "      <th>260</th>\n",
              "      <td>2020-11-28</td>\n",
              "      <td>Maryland</td>\n",
              "      <td>24</td>\n",
              "      <td>194603</td>\n",
              "      <td>4602</td>\n",
              "      <td>Montana</td>\n",
              "      <td>30</td>\n",
              "      <td>60845</td>\n",
              "      <td>670</td>\n",
              "    </tr>\n",
              "    <tr>\n",
              "      <th>261</th>\n",
              "      <td>2020-11-29</td>\n",
              "      <td>Maryland</td>\n",
              "      <td>24</td>\n",
              "      <td>196727</td>\n",
              "      <td>4625</td>\n",
              "      <td>Montana</td>\n",
              "      <td>30</td>\n",
              "      <td>61801</td>\n",
              "      <td>672</td>\n",
              "    </tr>\n",
              "    <tr>\n",
              "      <th>262</th>\n",
              "      <td>2020-11-30</td>\n",
              "      <td>Maryland</td>\n",
              "      <td>24</td>\n",
              "      <td>198710</td>\n",
              "      <td>4641</td>\n",
              "      <td>Montana</td>\n",
              "      <td>30</td>\n",
              "      <td>62256</td>\n",
              "      <td>684</td>\n",
              "    </tr>\n",
              "  </tbody>\n",
              "</table>\n",
              "</div>"
            ],
            "text/plain": [
              "           date   state_x  fips_x  cases_x  ...  state_y fips_y  cases_y  deaths_y\n",
              "258  2020-11-26  Maryland      24   190635  ...  Montana     30    59682       658\n",
              "259  2020-11-27  Maryland      24   193205  ...  Montana     30    59796       658\n",
              "260  2020-11-28  Maryland      24   194603  ...  Montana     30    60845       670\n",
              "261  2020-11-29  Maryland      24   196727  ...  Montana     30    61801       672\n",
              "262  2020-11-30  Maryland      24   198710  ...  Montana     30    62256       684\n",
              "\n",
              "[5 rows x 9 columns]"
            ]
          },
          "metadata": {
            "tags": []
          },
          "execution_count": 21
        }
      ]
    },
    {
      "cell_type": "code",
      "metadata": {
        "id": "0vGM7fD7RuBi"
      },
      "source": [
        "# Rename state_x, fips_x, cases_x, deaths_x, state_y, fips_y, cases_y, deaths_y to state specific columns\n",
        "# Merge data from right onto left sooo Left is maryland right is MT\n",
        "# format is df_name.rename(columns={\"old name\" : \"new name\"}) Columns specifies renaming column name\n",
        "# Overwrite of original data frame with more specific names\n",
        "df_MD_MT_merge = df_MD_MT_merge.rename(columns={\"state_x\" : \"state_MD\",\n",
        "                                \"fips_x\": \"fips_MD\",\n",
        "                               \"cases_x\": \"cases_MD\",\n",
        "                               \"deaths_x\": \"deaths_MD\",\n",
        "                               \"state_y\": \"state_MT\",\n",
        "                               \"fips_y\": \"fips_MT\",\n",
        "                               \"cases_y\": \"cases_MT\",\n",
        "                               \"deaths_y\": \"deaths_MT\"})"
      ],
      "execution_count": 23,
      "outputs": []
    },
    {
      "cell_type": "code",
      "metadata": {
        "colab": {
          "base_uri": "https://localhost:8080/",
          "height": 203
        },
        "id": "EcQTMdiId14J",
        "outputId": "629722a2-a593-4508-8b41-a37102e4d512"
      },
      "source": [
        "# Call of changed data frame to see changes\n",
        "df_MD_MT_merge.head()"
      ],
      "execution_count": 24,
      "outputs": [
        {
          "output_type": "execute_result",
          "data": {
            "text/html": [
              "<div>\n",
              "<style scoped>\n",
              "    .dataframe tbody tr th:only-of-type {\n",
              "        vertical-align: middle;\n",
              "    }\n",
              "\n",
              "    .dataframe tbody tr th {\n",
              "        vertical-align: top;\n",
              "    }\n",
              "\n",
              "    .dataframe thead th {\n",
              "        text-align: right;\n",
              "    }\n",
              "</style>\n",
              "<table border=\"1\" class=\"dataframe\">\n",
              "  <thead>\n",
              "    <tr style=\"text-align: right;\">\n",
              "      <th></th>\n",
              "      <th>date</th>\n",
              "      <th>state_MD</th>\n",
              "      <th>fips_MD</th>\n",
              "      <th>cases_MD</th>\n",
              "      <th>deaths_MD</th>\n",
              "      <th>state_MT</th>\n",
              "      <th>fips_MT</th>\n",
              "      <th>cases_MT</th>\n",
              "      <th>deaths_MT</th>\n",
              "    </tr>\n",
              "  </thead>\n",
              "  <tbody>\n",
              "    <tr>\n",
              "      <th>0</th>\n",
              "      <td>2020-03-13</td>\n",
              "      <td>Maryland</td>\n",
              "      <td>24</td>\n",
              "      <td>18</td>\n",
              "      <td>0</td>\n",
              "      <td>Montana</td>\n",
              "      <td>30</td>\n",
              "      <td>4</td>\n",
              "      <td>0</td>\n",
              "    </tr>\n",
              "    <tr>\n",
              "      <th>1</th>\n",
              "      <td>2020-03-14</td>\n",
              "      <td>Maryland</td>\n",
              "      <td>24</td>\n",
              "      <td>27</td>\n",
              "      <td>0</td>\n",
              "      <td>Montana</td>\n",
              "      <td>30</td>\n",
              "      <td>6</td>\n",
              "      <td>0</td>\n",
              "    </tr>\n",
              "    <tr>\n",
              "      <th>2</th>\n",
              "      <td>2020-03-15</td>\n",
              "      <td>Maryland</td>\n",
              "      <td>24</td>\n",
              "      <td>32</td>\n",
              "      <td>0</td>\n",
              "      <td>Montana</td>\n",
              "      <td>30</td>\n",
              "      <td>6</td>\n",
              "      <td>0</td>\n",
              "    </tr>\n",
              "    <tr>\n",
              "      <th>3</th>\n",
              "      <td>2020-03-16</td>\n",
              "      <td>Maryland</td>\n",
              "      <td>24</td>\n",
              "      <td>39</td>\n",
              "      <td>0</td>\n",
              "      <td>Montana</td>\n",
              "      <td>30</td>\n",
              "      <td>8</td>\n",
              "      <td>0</td>\n",
              "    </tr>\n",
              "    <tr>\n",
              "      <th>4</th>\n",
              "      <td>2020-03-17</td>\n",
              "      <td>Maryland</td>\n",
              "      <td>24</td>\n",
              "      <td>57</td>\n",
              "      <td>0</td>\n",
              "      <td>Montana</td>\n",
              "      <td>30</td>\n",
              "      <td>8</td>\n",
              "      <td>0</td>\n",
              "    </tr>\n",
              "  </tbody>\n",
              "</table>\n",
              "</div>"
            ],
            "text/plain": [
              "         date  state_MD  fips_MD  ...  fips_MT  cases_MT deaths_MT\n",
              "0  2020-03-13  Maryland       24  ...       30         4         0\n",
              "1  2020-03-14  Maryland       24  ...       30         6         0\n",
              "2  2020-03-15  Maryland       24  ...       30         6         0\n",
              "3  2020-03-16  Maryland       24  ...       30         8         0\n",
              "4  2020-03-17  Maryland       24  ...       30         8         0\n",
              "\n",
              "[5 rows x 9 columns]"
            ]
          },
          "metadata": {
            "tags": []
          },
          "execution_count": 24
        }
      ]
    },
    {
      "cell_type": "code",
      "metadata": {
        "id": "wIqOmlsExe1y"
      },
      "source": [
        "# Calculate new daily cases and new daily deaths for each state using current day - previous day formulation e.g. daily new cases = current day - previous day\n",
        "# data in dataframes are classified as integers - no need to change \n",
        "# If desire to redefine at later data df_MD_MT_merge[\"cases_MD\"] = df_MD_MT_merge[\"cases_MD\"].astype(float, int, etc)\n",
        "#df_MD_MT_merge.diff(periods=0,axis=0)\n",
        "#df[\"daily cases_MD\"] = (df_MD_MT_merge[\"cases_MD\"] - df_MD_MT_merge[\"cases_MD\"])\n",
        "# to create new column in data set with unique name form is as follows: must be of same type e.g. both int, floats, objects etc\n",
        "# df_xx[\"unique name\"] = df_xx[\"col name\" + df_xx[\"col name\"]]\n"
      ],
      "execution_count": 131,
      "outputs": []
    },
    {
      "cell_type": "markdown",
      "metadata": {
        "id": "uoRBr_2-6Zce"
      },
      "source": [
        "# Creating visualizations"
      ]
    },
    {
      "cell_type": "code",
      "metadata": {
        "colab": {
          "base_uri": "https://localhost:8080/",
          "height": 306
        },
        "id": "xvVN9pJc7IvW",
        "outputId": "5b240b72-ad55-4ccb-c13b-5e5ddc5ce8f0"
      },
      "source": [
        "df_MD_MT_grand_state_merge_30days.head()"
      ],
      "execution_count": 138,
      "outputs": [
        {
          "output_type": "execute_result",
          "data": {
            "text/html": [
              "<div>\n",
              "<style scoped>\n",
              "    .dataframe tbody tr th:only-of-type {\n",
              "        vertical-align: middle;\n",
              "    }\n",
              "\n",
              "    .dataframe tbody tr th {\n",
              "        vertical-align: top;\n",
              "    }\n",
              "\n",
              "    .dataframe thead th {\n",
              "        text-align: right;\n",
              "    }\n",
              "</style>\n",
              "<table border=\"1\" class=\"dataframe\">\n",
              "  <thead>\n",
              "    <tr style=\"text-align: right;\">\n",
              "      <th></th>\n",
              "      <th>date</th>\n",
              "      <th>state_MD</th>\n",
              "      <th>fips_MD</th>\n",
              "      <th>cases_MD</th>\n",
              "      <th>deaths_MD</th>\n",
              "      <th>daily cases_MD</th>\n",
              "      <th>daily deaths_MD</th>\n",
              "      <th>% pos. under 35 yrs</th>\n",
              "      <th>testingvolume</th>\n",
              "      <th>% pos. over 35 yrs</th>\n",
              "      <th>state_MT</th>\n",
              "      <th>fips_MT</th>\n",
              "      <th>cases_MT</th>\n",
              "      <th>deaths_MT</th>\n",
              "      <th>daily cases_MT</th>\n",
              "      <th>daily deaths_MT</th>\n",
              "    </tr>\n",
              "  </thead>\n",
              "  <tbody>\n",
              "    <tr>\n",
              "      <th>223</th>\n",
              "      <td>2020-11-01</td>\n",
              "      <td>Maryland</td>\n",
              "      <td>24</td>\n",
              "      <td>146627</td>\n",
              "      <td>4152</td>\n",
              "      <td>1034.0</td>\n",
              "      <td>5.0</td>\n",
              "      <td>4.49</td>\n",
              "      <td>26814</td>\n",
              "      <td>3.64</td>\n",
              "      <td>Montana</td>\n",
              "      <td>30</td>\n",
              "      <td>33495</td>\n",
              "      <td>378</td>\n",
              "      <td>694.0</td>\n",
              "      <td>1.0</td>\n",
              "    </tr>\n",
              "    <tr>\n",
              "      <th>224</th>\n",
              "      <td>2020-11-02</td>\n",
              "      <td>Maryland</td>\n",
              "      <td>24</td>\n",
              "      <td>147477</td>\n",
              "      <td>4155</td>\n",
              "      <td>850.0</td>\n",
              "      <td>3.0</td>\n",
              "      <td>4.47</td>\n",
              "      <td>19886</td>\n",
              "      <td>3.64</td>\n",
              "      <td>Montana</td>\n",
              "      <td>30</td>\n",
              "      <td>34317</td>\n",
              "      <td>387</td>\n",
              "      <td>822.0</td>\n",
              "      <td>9.0</td>\n",
              "    </tr>\n",
              "    <tr>\n",
              "      <th>225</th>\n",
              "      <td>2020-11-03</td>\n",
              "      <td>Maryland</td>\n",
              "      <td>24</td>\n",
              "      <td>148249</td>\n",
              "      <td>4162</td>\n",
              "      <td>772.0</td>\n",
              "      <td>7.0</td>\n",
              "      <td>4.68</td>\n",
              "      <td>25270</td>\n",
              "      <td>3.78</td>\n",
              "      <td>Montana</td>\n",
              "      <td>30</td>\n",
              "      <td>35222</td>\n",
              "      <td>400</td>\n",
              "      <td>905.0</td>\n",
              "      <td>13.0</td>\n",
              "    </tr>\n",
              "    <tr>\n",
              "      <th>226</th>\n",
              "      <td>2020-11-04</td>\n",
              "      <td>Maryland</td>\n",
              "      <td>24</td>\n",
              "      <td>149232</td>\n",
              "      <td>4172</td>\n",
              "      <td>983.0</td>\n",
              "      <td>10.0</td>\n",
              "      <td>4.81</td>\n",
              "      <td>27944</td>\n",
              "      <td>3.87</td>\n",
              "      <td>Montana</td>\n",
              "      <td>30</td>\n",
              "      <td>36012</td>\n",
              "      <td>404</td>\n",
              "      <td>790.0</td>\n",
              "      <td>4.0</td>\n",
              "    </tr>\n",
              "    <tr>\n",
              "      <th>227</th>\n",
              "      <td>2020-11-05</td>\n",
              "      <td>Maryland</td>\n",
              "      <td>24</td>\n",
              "      <td>150424</td>\n",
              "      <td>4182</td>\n",
              "      <td>1192.0</td>\n",
              "      <td>10.0</td>\n",
              "      <td>5.07</td>\n",
              "      <td>35378</td>\n",
              "      <td>3.99</td>\n",
              "      <td>Montana</td>\n",
              "      <td>30</td>\n",
              "      <td>37024</td>\n",
              "      <td>409</td>\n",
              "      <td>1012.0</td>\n",
              "      <td>5.0</td>\n",
              "    </tr>\n",
              "  </tbody>\n",
              "</table>\n",
              "</div>"
            ],
            "text/plain": [
              "           date  state_MD  fips_MD  ...  deaths_MT  daily cases_MT  daily deaths_MT\n",
              "223  2020-11-01  Maryland       24  ...        378           694.0              1.0\n",
              "224  2020-11-02  Maryland       24  ...        387           822.0              9.0\n",
              "225  2020-11-03  Maryland       24  ...        400           905.0             13.0\n",
              "226  2020-11-04  Maryland       24  ...        404           790.0              4.0\n",
              "227  2020-11-05  Maryland       24  ...        409          1012.0              5.0\n",
              "\n",
              "[5 rows x 16 columns]"
            ]
          },
          "metadata": {
            "tags": []
          },
          "execution_count": 138
        }
      ]
    },
    {
      "cell_type": "code",
      "metadata": {
        "colab": {
          "base_uri": "https://localhost:8080/"
        },
        "id": "1XClxOn77X6p",
        "outputId": "f4fdabd3-408f-46ed-e549-ead9e51e24f2"
      },
      "source": [
        "df_MD_MT_grand_state_merge_30days.columns"
      ],
      "execution_count": 140,
      "outputs": [
        {
          "output_type": "execute_result",
          "data": {
            "text/plain": [
              "Index(['date', 'state_MD', 'fips_MD', 'cases_MD', 'deaths_MD',\n",
              "       'daily cases_MD', 'daily deaths_MD', '% pos. under 35 yrs',\n",
              "       'testingvolume', '% pos. over 35 yrs', 'state_MT', 'fips_MT',\n",
              "       'cases_MT', 'deaths_MT', 'daily cases_MT', 'daily deaths_MT'],\n",
              "      dtype='object')"
            ]
          },
          "metadata": {
            "tags": []
          },
          "execution_count": 140
        }
      ]
    },
    {
      "cell_type": "code",
      "metadata": {
        "id": "rEcLbOLYCbA4"
      },
      "source": [
        "# Create bar graph visualization of daily covid cases\n",
        "bar_daily_cases_MD = px.bar(df_MD_MT_grand_state_merge_30days,x=\"date\", y=\"daily cases_MD\", title = \"Daily cases of Covid-19 in Maryland\")"
      ],
      "execution_count": 141,
      "outputs": []
    },
    {
      "cell_type": "code",
      "metadata": {
        "colab": {
          "base_uri": "https://localhost:8080/",
          "height": 542
        },
        "id": "Y9RitvEx9zfL",
        "outputId": "21cbd69d-1d0e-410d-9a05-3cf3b3781705"
      },
      "source": [
        "bar_daily_cases_MD"
      ],
      "execution_count": 142,
      "outputs": [
        {
          "output_type": "display_data",
          "data": {
            "text/html": [
              "<html>\n",
              "<head><meta charset=\"utf-8\" /></head>\n",
              "<body>\n",
              "    <div>\n",
              "            <script src=\"https://cdnjs.cloudflare.com/ajax/libs/mathjax/2.7.5/MathJax.js?config=TeX-AMS-MML_SVG\"></script><script type=\"text/javascript\">if (window.MathJax) {MathJax.Hub.Config({SVG: {font: \"STIX-Web\"}});}</script>\n",
              "                <script type=\"text/javascript\">window.PlotlyConfig = {MathJaxConfig: 'local'};</script>\n",
              "        <script src=\"https://cdn.plot.ly/plotly-latest.min.js\"></script>    \n",
              "            <div id=\"5230880b-4e5b-40a7-a932-b670ad6d789a\" class=\"plotly-graph-div\" style=\"height:525px; width:100%;\"></div>\n",
              "            <script type=\"text/javascript\">\n",
              "                \n",
              "                    window.PLOTLYENV=window.PLOTLYENV || {};\n",
              "                    \n",
              "                if (document.getElementById(\"5230880b-4e5b-40a7-a932-b670ad6d789a\")) {\n",
              "                    Plotly.newPlot(\n",
              "                        '5230880b-4e5b-40a7-a932-b670ad6d789a',\n",
              "                        [{\"alignmentgroup\": \"True\", \"hoverlabel\": {\"namelength\": 0}, \"hovertemplate\": \"date=%{x}<br>daily cases_MD=%{y}\", \"legendgroup\": \"\", \"marker\": {\"color\": \"#636efa\"}, \"name\": \"\", \"offsetgroup\": \"\", \"orientation\": \"v\", \"showlegend\": false, \"textposition\": \"auto\", \"type\": \"bar\", \"x\": [\"2020-11-01\", \"2020-11-02\", \"2020-11-03\", \"2020-11-04\", \"2020-11-05\", \"2020-11-06\", \"2020-11-07\", \"2020-11-08\", \"2020-11-09\", \"2020-11-10\", \"2020-11-11\", \"2020-11-12\", \"2020-11-13\", \"2020-11-14\", \"2020-11-15\", \"2020-11-16\", \"2020-11-17\", \"2020-11-18\", \"2020-11-19\", \"2020-11-20\", \"2020-11-21\", \"2020-11-22\", \"2020-11-23\", \"2020-11-24\", \"2020-11-25\", \"2020-11-26\", \"2020-11-27\", \"2020-11-28\", \"2020-11-29\", \"2020-11-30\"], \"xaxis\": \"x\", \"y\": [1034.0, 850.0, 772.0, 983.0, 1192.0, 1540.0, 1234.0, 1253.0, 1373.0, 1325.0, 1687.0, 1475.0, 1870.0, 2058.0, 2078.0, 1724.0, 2152.0, 2011.0, 2888.0, 2147.0, 2886.0, 2357.0, 1658.0, 1672.0, 2697.0, 2126.0, 2570.0, 1398.0, 2124.0, 1983.0], \"yaxis\": \"y\"}],\n",
              "                        {\"barmode\": \"relative\", \"legend\": {\"tracegroupgap\": 0}, \"template\": {\"data\": {\"bar\": [{\"error_x\": {\"color\": \"#2a3f5f\"}, \"error_y\": {\"color\": \"#2a3f5f\"}, \"marker\": {\"line\": {\"color\": \"#E5ECF6\", \"width\": 0.5}}, \"type\": \"bar\"}], \"barpolar\": [{\"marker\": {\"line\": {\"color\": \"#E5ECF6\", \"width\": 0.5}}, \"type\": \"barpolar\"}], \"carpet\": [{\"aaxis\": {\"endlinecolor\": \"#2a3f5f\", \"gridcolor\": \"white\", \"linecolor\": \"white\", \"minorgridcolor\": \"white\", \"startlinecolor\": \"#2a3f5f\"}, \"baxis\": {\"endlinecolor\": \"#2a3f5f\", \"gridcolor\": \"white\", \"linecolor\": \"white\", \"minorgridcolor\": \"white\", \"startlinecolor\": \"#2a3f5f\"}, \"type\": \"carpet\"}], \"choropleth\": [{\"colorbar\": {\"outlinewidth\": 0, \"ticks\": \"\"}, \"type\": \"choropleth\"}], \"contour\": [{\"colorbar\": {\"outlinewidth\": 0, \"ticks\": \"\"}, \"colorscale\": [[0.0, \"#0d0887\"], [0.1111111111111111, \"#46039f\"], [0.2222222222222222, \"#7201a8\"], [0.3333333333333333, \"#9c179e\"], [0.4444444444444444, \"#bd3786\"], [0.5555555555555556, \"#d8576b\"], [0.6666666666666666, \"#ed7953\"], [0.7777777777777778, \"#fb9f3a\"], [0.8888888888888888, \"#fdca26\"], [1.0, \"#f0f921\"]], \"type\": \"contour\"}], \"contourcarpet\": [{\"colorbar\": {\"outlinewidth\": 0, \"ticks\": \"\"}, \"type\": \"contourcarpet\"}], \"heatmap\": [{\"colorbar\": {\"outlinewidth\": 0, \"ticks\": \"\"}, \"colorscale\": [[0.0, \"#0d0887\"], [0.1111111111111111, \"#46039f\"], [0.2222222222222222, \"#7201a8\"], [0.3333333333333333, \"#9c179e\"], [0.4444444444444444, \"#bd3786\"], [0.5555555555555556, \"#d8576b\"], [0.6666666666666666, \"#ed7953\"], [0.7777777777777778, \"#fb9f3a\"], [0.8888888888888888, \"#fdca26\"], [1.0, \"#f0f921\"]], \"type\": \"heatmap\"}], \"heatmapgl\": [{\"colorbar\": {\"outlinewidth\": 0, \"ticks\": \"\"}, \"colorscale\": [[0.0, \"#0d0887\"], [0.1111111111111111, \"#46039f\"], [0.2222222222222222, \"#7201a8\"], [0.3333333333333333, \"#9c179e\"], [0.4444444444444444, \"#bd3786\"], [0.5555555555555556, \"#d8576b\"], [0.6666666666666666, \"#ed7953\"], [0.7777777777777778, \"#fb9f3a\"], [0.8888888888888888, \"#fdca26\"], [1.0, \"#f0f921\"]], \"type\": \"heatmapgl\"}], \"histogram\": [{\"marker\": {\"colorbar\": {\"outlinewidth\": 0, \"ticks\": \"\"}}, \"type\": \"histogram\"}], \"histogram2d\": [{\"colorbar\": {\"outlinewidth\": 0, \"ticks\": \"\"}, \"colorscale\": [[0.0, \"#0d0887\"], [0.1111111111111111, \"#46039f\"], [0.2222222222222222, \"#7201a8\"], [0.3333333333333333, \"#9c179e\"], [0.4444444444444444, \"#bd3786\"], [0.5555555555555556, \"#d8576b\"], [0.6666666666666666, \"#ed7953\"], [0.7777777777777778, \"#fb9f3a\"], [0.8888888888888888, \"#fdca26\"], [1.0, \"#f0f921\"]], \"type\": \"histogram2d\"}], \"histogram2dcontour\": [{\"colorbar\": {\"outlinewidth\": 0, \"ticks\": \"\"}, \"colorscale\": [[0.0, \"#0d0887\"], [0.1111111111111111, \"#46039f\"], [0.2222222222222222, \"#7201a8\"], [0.3333333333333333, \"#9c179e\"], [0.4444444444444444, \"#bd3786\"], [0.5555555555555556, \"#d8576b\"], [0.6666666666666666, \"#ed7953\"], [0.7777777777777778, \"#fb9f3a\"], [0.8888888888888888, \"#fdca26\"], [1.0, \"#f0f921\"]], \"type\": \"histogram2dcontour\"}], \"mesh3d\": [{\"colorbar\": {\"outlinewidth\": 0, \"ticks\": \"\"}, \"type\": \"mesh3d\"}], \"parcoords\": [{\"line\": {\"colorbar\": {\"outlinewidth\": 0, \"ticks\": \"\"}}, \"type\": \"parcoords\"}], \"pie\": [{\"automargin\": true, \"type\": \"pie\"}], \"scatter\": [{\"marker\": {\"colorbar\": {\"outlinewidth\": 0, \"ticks\": \"\"}}, \"type\": \"scatter\"}], \"scatter3d\": [{\"line\": {\"colorbar\": {\"outlinewidth\": 0, \"ticks\": \"\"}}, \"marker\": {\"colorbar\": {\"outlinewidth\": 0, \"ticks\": \"\"}}, \"type\": \"scatter3d\"}], \"scattercarpet\": [{\"marker\": {\"colorbar\": {\"outlinewidth\": 0, \"ticks\": \"\"}}, \"type\": \"scattercarpet\"}], \"scattergeo\": [{\"marker\": {\"colorbar\": {\"outlinewidth\": 0, \"ticks\": \"\"}}, \"type\": \"scattergeo\"}], \"scattergl\": [{\"marker\": {\"colorbar\": {\"outlinewidth\": 0, \"ticks\": \"\"}}, \"type\": \"scattergl\"}], \"scattermapbox\": [{\"marker\": {\"colorbar\": {\"outlinewidth\": 0, \"ticks\": \"\"}}, \"type\": \"scattermapbox\"}], \"scatterpolar\": [{\"marker\": {\"colorbar\": {\"outlinewidth\": 0, \"ticks\": \"\"}}, \"type\": \"scatterpolar\"}], \"scatterpolargl\": [{\"marker\": {\"colorbar\": {\"outlinewidth\": 0, \"ticks\": \"\"}}, \"type\": \"scatterpolargl\"}], \"scatterternary\": [{\"marker\": {\"colorbar\": {\"outlinewidth\": 0, \"ticks\": \"\"}}, \"type\": \"scatterternary\"}], \"surface\": [{\"colorbar\": {\"outlinewidth\": 0, \"ticks\": \"\"}, \"colorscale\": [[0.0, \"#0d0887\"], [0.1111111111111111, \"#46039f\"], [0.2222222222222222, \"#7201a8\"], [0.3333333333333333, \"#9c179e\"], [0.4444444444444444, \"#bd3786\"], [0.5555555555555556, \"#d8576b\"], [0.6666666666666666, \"#ed7953\"], [0.7777777777777778, \"#fb9f3a\"], [0.8888888888888888, \"#fdca26\"], [1.0, \"#f0f921\"]], \"type\": \"surface\"}], \"table\": [{\"cells\": {\"fill\": {\"color\": \"#EBF0F8\"}, \"line\": {\"color\": \"white\"}}, \"header\": {\"fill\": {\"color\": \"#C8D4E3\"}, \"line\": {\"color\": \"white\"}}, \"type\": \"table\"}]}, \"layout\": {\"annotationdefaults\": {\"arrowcolor\": \"#2a3f5f\", \"arrowhead\": 0, \"arrowwidth\": 1}, \"coloraxis\": {\"colorbar\": {\"outlinewidth\": 0, \"ticks\": \"\"}}, \"colorscale\": {\"diverging\": [[0, \"#8e0152\"], [0.1, \"#c51b7d\"], [0.2, \"#de77ae\"], [0.3, \"#f1b6da\"], [0.4, \"#fde0ef\"], [0.5, \"#f7f7f7\"], [0.6, \"#e6f5d0\"], [0.7, \"#b8e186\"], [0.8, \"#7fbc41\"], [0.9, \"#4d9221\"], [1, \"#276419\"]], \"sequential\": [[0.0, \"#0d0887\"], [0.1111111111111111, \"#46039f\"], [0.2222222222222222, \"#7201a8\"], [0.3333333333333333, \"#9c179e\"], [0.4444444444444444, \"#bd3786\"], [0.5555555555555556, \"#d8576b\"], [0.6666666666666666, \"#ed7953\"], [0.7777777777777778, \"#fb9f3a\"], [0.8888888888888888, \"#fdca26\"], [1.0, \"#f0f921\"]], \"sequentialminus\": [[0.0, \"#0d0887\"], [0.1111111111111111, \"#46039f\"], [0.2222222222222222, \"#7201a8\"], [0.3333333333333333, \"#9c179e\"], [0.4444444444444444, \"#bd3786\"], [0.5555555555555556, \"#d8576b\"], [0.6666666666666666, \"#ed7953\"], [0.7777777777777778, \"#fb9f3a\"], [0.8888888888888888, \"#fdca26\"], [1.0, \"#f0f921\"]]}, \"colorway\": [\"#636efa\", \"#EF553B\", \"#00cc96\", \"#ab63fa\", \"#FFA15A\", \"#19d3f3\", \"#FF6692\", \"#B6E880\", \"#FF97FF\", \"#FECB52\"], \"font\": {\"color\": \"#2a3f5f\"}, \"geo\": {\"bgcolor\": \"white\", \"lakecolor\": \"white\", \"landcolor\": \"#E5ECF6\", \"showlakes\": true, \"showland\": true, \"subunitcolor\": \"white\"}, \"hoverlabel\": {\"align\": \"left\"}, \"hovermode\": \"closest\", \"mapbox\": {\"style\": \"light\"}, \"paper_bgcolor\": \"white\", \"plot_bgcolor\": \"#E5ECF6\", \"polar\": {\"angularaxis\": {\"gridcolor\": \"white\", \"linecolor\": \"white\", \"ticks\": \"\"}, \"bgcolor\": \"#E5ECF6\", \"radialaxis\": {\"gridcolor\": \"white\", \"linecolor\": \"white\", \"ticks\": \"\"}}, \"scene\": {\"xaxis\": {\"backgroundcolor\": \"#E5ECF6\", \"gridcolor\": \"white\", \"gridwidth\": 2, \"linecolor\": \"white\", \"showbackground\": true, \"ticks\": \"\", \"zerolinecolor\": \"white\"}, \"yaxis\": {\"backgroundcolor\": \"#E5ECF6\", \"gridcolor\": \"white\", \"gridwidth\": 2, \"linecolor\": \"white\", \"showbackground\": true, \"ticks\": \"\", \"zerolinecolor\": \"white\"}, \"zaxis\": {\"backgroundcolor\": \"#E5ECF6\", \"gridcolor\": \"white\", \"gridwidth\": 2, \"linecolor\": \"white\", \"showbackground\": true, \"ticks\": \"\", \"zerolinecolor\": \"white\"}}, \"shapedefaults\": {\"line\": {\"color\": \"#2a3f5f\"}}, \"ternary\": {\"aaxis\": {\"gridcolor\": \"white\", \"linecolor\": \"white\", \"ticks\": \"\"}, \"baxis\": {\"gridcolor\": \"white\", \"linecolor\": \"white\", \"ticks\": \"\"}, \"bgcolor\": \"#E5ECF6\", \"caxis\": {\"gridcolor\": \"white\", \"linecolor\": \"white\", \"ticks\": \"\"}}, \"title\": {\"x\": 0.05}, \"xaxis\": {\"automargin\": true, \"gridcolor\": \"white\", \"linecolor\": \"white\", \"ticks\": \"\", \"title\": {\"standoff\": 15}, \"zerolinecolor\": \"white\", \"zerolinewidth\": 2}, \"yaxis\": {\"automargin\": true, \"gridcolor\": \"white\", \"linecolor\": \"white\", \"ticks\": \"\", \"title\": {\"standoff\": 15}, \"zerolinecolor\": \"white\", \"zerolinewidth\": 2}}}, \"title\": {\"text\": \"Daily cases of Covid-19 in Maryland\"}, \"xaxis\": {\"anchor\": \"y\", \"domain\": [0.0, 1.0], \"title\": {\"text\": \"date\"}}, \"yaxis\": {\"anchor\": \"x\", \"domain\": [0.0, 1.0], \"title\": {\"text\": \"daily cases_MD\"}}},\n",
              "                        {\"responsive\": true}\n",
              "                    ).then(function(){\n",
              "                            \n",
              "var gd = document.getElementById('5230880b-4e5b-40a7-a932-b670ad6d789a');\n",
              "var x = new MutationObserver(function (mutations, observer) {{\n",
              "        var display = window.getComputedStyle(gd).display;\n",
              "        if (!display || display === 'none') {{\n",
              "            console.log([gd, 'removed!']);\n",
              "            Plotly.purge(gd);\n",
              "            observer.disconnect();\n",
              "        }}\n",
              "}});\n",
              "\n",
              "// Listen for the removal of the full notebook cells\n",
              "var notebookContainer = gd.closest('#notebook-container');\n",
              "if (notebookContainer) {{\n",
              "    x.observe(notebookContainer, {childList: true});\n",
              "}}\n",
              "\n",
              "// Listen for the clearing of the current output cell\n",
              "var outputEl = gd.closest('.output');\n",
              "if (outputEl) {{\n",
              "    x.observe(outputEl, {childList: true});\n",
              "}}\n",
              "\n",
              "                        })\n",
              "                };\n",
              "                \n",
              "            </script>\n",
              "        </div>\n",
              "</body>\n",
              "</html>"
            ]
          },
          "metadata": {
            "tags": []
          }
        }
      ]
    },
    {
      "cell_type": "code",
      "metadata": {
        "id": "IqE9HkSd85I8"
      },
      "source": [
        "# daily cases MT"
      ],
      "execution_count": null,
      "outputs": []
    },
    {
      "cell_type": "code",
      "metadata": {
        "id": "-km8VkfjDO7m"
      },
      "source": [
        ""
      ],
      "execution_count": null,
      "outputs": []
    }
  ]
}